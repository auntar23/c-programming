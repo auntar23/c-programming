{
  "nbformat": 4,
  "nbformat_minor": 0,
  "metadata": {
    "colab": {
      "provenance": [],
      "gpuType": "T4",
      "authorship_tag": "ABX9TyN2zEXPOVMoPw6yohoXE20l",
      "include_colab_link": true
    },
    "kernelspec": {
      "name": "python3",
      "display_name": "Python 3"
    },
    "language_info": {
      "name": "python"
    },
    "accelerator": "GPU"
  },
  "cells": [
    {
      "cell_type": "markdown",
      "metadata": {
        "id": "view-in-github",
        "colab_type": "text"
      },
      "source": [
        "<a href=\"https://colab.research.google.com/github/auntar23/c-programming/blob/main/Untitled1.ipynb\" target=\"_parent\"><img src=\"https://colab.research.google.com/assets/colab-badge.svg\" alt=\"Open In Colab\"/></a>"
      ]
    },
    {
      "cell_type": "code",
      "execution_count": 8,
      "metadata": {
        "id": "GU81pP2kxKVx"
      },
      "outputs": [],
      "source": [
        "import os\n",
        "import numpy as np\n",
        "import cv2\n",
        "from sklearn.model_selection import train_test_split\n",
        "from sklearn.ensemble import RandomForestClassifier\n",
        "from sklearn import metrics\n",
        "from tensorflow.keras import layers, models\n",
        "from tensorflow.keras.utils import to_categorical\n"
      ]
    },
    {
      "cell_type": "code",
      "source": [
        "# Mount Google Drive\n",
        "from google.colab import drive\n",
        "drive.mount('/content/drive')"
      ],
      "metadata": {
        "colab": {
          "base_uri": "https://localhost:8080/"
        },
        "id": "WcmRHnzyy6w4",
        "outputId": "16ed22a0-d15a-4f03-9ead-1c131539efef"
      },
      "execution_count": 2,
      "outputs": [
        {
          "output_type": "stream",
          "name": "stdout",
          "text": [
            "Mounted at /content/drive\n"
          ]
        }
      ]
    },
    {
      "cell_type": "code",
      "source": [
        "# Function to read and preprocess images\n",
        "def read_images(dataset_path):\n",
        "    images = []\n",
        "    labels = []\n",
        "    for category in [\"cover\", \"stego\"]:\n",
        "        category_path = os.path.join(dataset_path, category)\n",
        "        for filename in os.listdir(category_path):\n",
        "            if filename.endswith(\".pgm\"):\n",
        "                img = cv2.imread(os.path.join(category_path, filename), cv2.IMREAD_GRAYSCALE)\n",
        "                img = cv2.resize(img, (64, 64))  # Resize image if needed\n",
        "                images.append(img.flatten())\n",
        "                labels.append(1 if category == \"stego\" else 0)\n",
        "\n",
        "    return np.array(images), np.array(labels)\n"
      ],
      "metadata": {
        "id": "YYhELupSzPfU"
      },
      "execution_count": 9,
      "outputs": []
    },
    {
      "cell_type": "code",
      "source": [
        "# Load dataset\n",
        "dataset_path = \"/content/drive/MyDrive/S uniward 0.4bpp\"\n",
        "X, y = read_images(dataset_path)\n"
      ],
      "metadata": {
        "id": "_wmIG4x4zbkP"
      },
      "execution_count": 10,
      "outputs": []
    },
    {
      "cell_type": "code",
      "source": [
        "# Check the number of images in the dataset\n",
        "num_images = len(X)\n",
        "print(\"Number of images:\", num_images)"
      ],
      "metadata": {
        "colab": {
          "base_uri": "https://localhost:8080/"
        },
        "id": "NCSaL-900zH7",
        "outputId": "40f6d8e6-9f2a-4af4-8242-8924e5ef5bdd"
      },
      "execution_count": 11,
      "outputs": [
        {
          "output_type": "stream",
          "name": "stdout",
          "text": [
            "Number of images: 2000\n"
          ]
        }
      ]
    },
    {
      "cell_type": "code",
      "source": [
        "# Check if the dataset is not empty\n",
        "if num_images == 0:\n",
        "    print(\"Error: No images found in the specified folders.\")\n",
        "else:\n",
        "    # Split the dataset into training and testing sets\n",
        "    X_train, X_test, y_train, y_test = train_test_split(X, y, test_size=0.2, random_state=42)\n",
        "\n",
        "    # Random Forest Classifier\n",
        "    rf_classifier = RandomForestClassifier(n_estimators=100, random_state=42)\n",
        "    rf_classifier.fit(X_train, y_train)\n",
        "    rf_predictions = rf_classifier.predict(X_test)\n",
        "\n",
        "    # Print Random Forest Classifier metrics\n",
        "    print(\"Random Forest Classifier Metrics:\")\n",
        "    print(\"Accuracy:\", metrics.accuracy_score(y_test, rf_predictions))\n",
        "    print(\"Precision:\", metrics.precision_score(y_test, rf_predictions))\n",
        "    print(\"Recall:\", metrics.recall_score(y_test, rf_predictions))\n",
        "    print(\"F1 Score:\", metrics.f1_score(y_test, rf_predictions))\n",
        "\n",
        "    # Convolutional Neural Network (CNN)\n",
        "    X_train_cnn = X_train.reshape(-1, 64, 64, 1)  # Reshape for CNN\n",
        "    X_test_cnn = X_test.reshape(-1, 64, 64, 1)\n",
        "    y_train_categorical = to_categorical(y_train)\n",
        "    y_test_categorical = to_categorical(y_test)\n",
        "\n",
        "    model = models.Sequential()\n",
        "    model.add(layers.Conv2D(32, (3, 3), activation='relu', input_shape=(64, 64, 1)))\n",
        "    model.add(layers.MaxPooling2D((2, 2)))\n",
        "    model.add(layers.Conv2D(64, (3, 3), activation='relu'))\n",
        "    model.add(layers.MaxPooling2D((2, 2)))\n",
        "    model.add(layers.Flatten())\n",
        "    model.add(layers.Dense(64, activation='relu'))\n",
        "    model.add(layers.Dense(2, activation='softmax'))\n",
        "\n",
        "    model.compile(optimizer='adam',\n",
        "                  loss='categorical_crossentropy',\n",
        "                  metrics=['accuracy'])\n",
        "\n",
        "    model.fit(X_train_cnn, y_train_categorical, epochs=5, validation_data=(X_test_cnn, y_test_categorical))\n",
        "\n",
        "    cnn_predictions = np.argmax(model.predict(X_test_cnn), axis=1)\n",
        "\n",
        "    # Print CNN metrics\n",
        "    print(\"\\nConvolutional Neural Network Metrics:\")\n",
        "    print(\"Accuracy:\", metrics.accuracy_score(y_test, cnn_predictions))\n",
        "    print(\"Precision:\", metrics.precision_score(y_test, cnn_predictions))\n",
        "    print(\"Recall:\", metrics.recall_score(y_test, cnn_predictions))\n",
        "    print(\"F1 Score:\", metrics.f1_score(y_test, cnn_predictions))"
      ],
      "metadata": {
        "colab": {
          "base_uri": "https://localhost:8080/"
        },
        "id": "ZBe4OL3R2Oag",
        "outputId": "5a6add59-9684-4350-b3ea-0e2c4794b392"
      },
      "execution_count": 17,
      "outputs": [
        {
          "output_type": "stream",
          "name": "stdout",
          "text": [
            "Random Forest Classifier Metrics:\n",
            "Accuracy: 0.0975\n",
            "Precision: 0.1\n",
            "Recall: 0.09950248756218906\n",
            "F1 Score: 0.09975062344139651\n",
            "Epoch 1/5\n",
            "50/50 [==============================] - 6s 13ms/step - loss: 9.0681 - accuracy: 0.4725 - val_loss: 0.7065 - val_accuracy: 0.4900\n",
            "Epoch 2/5\n",
            "50/50 [==============================] - 0s 6ms/step - loss: 0.6984 - accuracy: 0.4806 - val_loss: 0.7125 - val_accuracy: 0.4375\n",
            "Epoch 3/5\n",
            "50/50 [==============================] - 0s 6ms/step - loss: 0.6936 - accuracy: 0.4975 - val_loss: 0.7136 - val_accuracy: 0.4050\n",
            "Epoch 4/5\n",
            "50/50 [==============================] - 0s 6ms/step - loss: 0.6930 - accuracy: 0.4906 - val_loss: 0.7284 - val_accuracy: 0.3675\n",
            "Epoch 5/5\n",
            "50/50 [==============================] - 0s 6ms/step - loss: 0.6928 - accuracy: 0.4900 - val_loss: 0.7531 - val_accuracy: 0.3350\n",
            "13/13 [==============================] - 0s 2ms/step\n",
            "\n",
            "Convolutional Neural Network Metrics:\n",
            "Accuracy: 0.335\n",
            "Precision: 0.16494845360824742\n",
            "Recall: 0.07960199004975124\n",
            "F1 Score: 0.10738255033557047\n"
          ]
        }
      ]
    },
    {
      "cell_type": "code",
      "source": [
        "import os\n",
        "import numpy as np\n",
        "import cv2\n",
        "from sklearn.model_selection import train_test_split\n",
        "from sklearn.ensemble import RandomForestClassifier\n",
        "from sklearn import metrics\n",
        "from tensorflow.keras import layers, models\n",
        "from tensorflow.keras.utils import to_categorical"
      ],
      "metadata": {
        "id": "LL8jdBte3Eim"
      },
      "execution_count": 18,
      "outputs": []
    },
    {
      "cell_type": "code",
      "source": [
        "# Function to read and preprocess images\n",
        "def read_images(dataset_path):\n",
        "    images = []\n",
        "    labels = []\n",
        "    for category in [\"cover\", \"stego\"]:\n",
        "        category_path = os.path.join(dataset_path, category)\n",
        "        for filename in os.listdir(category_path):\n",
        "            if filename.endswith(\".pgm\"):\n",
        "                img = cv2.imread(os.path.join(category_path, filename), cv2.IMREAD_GRAYSCALE)\n",
        "                img = cv2.resize(img, (128, 128))  # Resize image if needed\n",
        "                images.append(img)\n",
        "                labels.append(1 if category == \"stego\" else 0)\n",
        "\n",
        "    return np.array(images), np.array(labels)\n"
      ],
      "metadata": {
        "id": "SdbJg5CB3Fem"
      },
      "execution_count": 19,
      "outputs": []
    },
    {
      "cell_type": "code",
      "source": [
        "# Load dataset\n",
        "dataset_path = \"/content/drive/MyDrive/S uniward 0.4bpp\"\n",
        "X, y = read_images(dataset_path)"
      ],
      "metadata": {
        "id": "HrMiBSfL3INp"
      },
      "execution_count": 20,
      "outputs": []
    },
    {
      "cell_type": "code",
      "source": [
        "# Check if the dataset is not empty\n",
        "if len(X) == 0:\n",
        "    print(\"Error: No images found in the specified folders.\")\n",
        "else:\n",
        "    # Split the dataset into training and testing sets\n",
        "    X_train, X_test, y_train, y_test = train_test_split(X, y, test_size=0.2, random_state=42)\n",
        "\n",
        "    # Convolutional Neural Network (Advanced)\n",
        "    model = models.Sequential()\n",
        "    model.add(layers.Conv2D(64, (3, 3), activation='relu', input_shape=(128, 128, 1)))\n",
        "    model.add(layers.BatchNormalization())\n",
        "    model.add(layers.MaxPooling2D((2, 2)))\n",
        "    model.add(layers.Conv2D(128, (3, 3), activation='relu'))\n",
        "    model.add(layers.BatchNormalization())\n",
        "    model.add(layers.MaxPooling2D((2, 2)))\n",
        "    model.add(layers.Conv2D(256, (3, 3), activation='relu'))\n",
        "    model.add(layers.BatchNormalization())\n",
        "    model.add(layers.MaxPooling2D((2, 2)))\n",
        "    model.add(layers.Flatten())\n",
        "    model.add(layers.Dense(512, activation='relu'))\n",
        "    model.add(layers.Dropout(0.5))\n",
        "    model.add(layers.Dense(2, activation='softmax'))\n",
        "\n",
        "    model.compile(optimizer='adam',\n",
        "                  loss='categorical_crossentropy',\n",
        "                  metrics=['accuracy'])\n",
        "\n",
        "    # Reshape for CNN\n",
        "    X_train = X_train.reshape(-1, 128, 128, 1)\n",
        "    X_test = X_test.reshape(-1, 128, 128, 1)\n",
        "\n",
        "    y_train_categorical = to_categorical(y_train)\n",
        "    y_test_categorical = to_categorical(y_test)\n",
        "\n",
        "    model.fit(X_train, y_train_categorical, epochs=10, batch_size=32, validation_data=(X_test, y_test_categorical))\n",
        "\n",
        "    cnn_predictions = np.argmax(model.predict(X_test), axis=1)\n",
        "\n",
        "    # Print CNN metrics\n",
        "    print(\"\\nConvolutional Neural Network Metrics:\")\n",
        "    print(\"Accuracy:\", metrics.accuracy_score(y_test, cnn_predictions))\n",
        "    print(\"Precision:\", metrics.precision_score(y_test, cnn_predictions))\n",
        "    print(\"Recall:\", metrics.recall_score(y_test, cnn_predictions))\n",
        "    print(\"F1 Score:\", metrics.f1_score(y_test, cnn_predictions))"
      ],
      "metadata": {
        "colab": {
          "base_uri": "https://localhost:8080/"
        },
        "id": "W_VnaW7i3OLn",
        "outputId": "2e2d7244-d01c-44f4-e152-f406fb3ac37d"
      },
      "execution_count": 21,
      "outputs": [
        {
          "output_type": "stream",
          "name": "stdout",
          "text": [
            "Epoch 1/10\n",
            "50/50 [==============================] - 9s 66ms/step - loss: 20.1197 - accuracy: 0.4825 - val_loss: 158.9696 - val_accuracy: 0.5075\n",
            "Epoch 2/10\n",
            "50/50 [==============================] - 2s 50ms/step - loss: 12.3413 - accuracy: 0.4906 - val_loss: 9.9782 - val_accuracy: 0.4900\n",
            "Epoch 3/10\n",
            "50/50 [==============================] - 2s 50ms/step - loss: 6.6853 - accuracy: 0.4812 - val_loss: 3.9457 - val_accuracy: 0.4600\n",
            "Epoch 4/10\n",
            "50/50 [==============================] - 2s 50ms/step - loss: 2.0893 - accuracy: 0.4769 - val_loss: 0.8763 - val_accuracy: 0.4525\n",
            "Epoch 5/10\n",
            "50/50 [==============================] - 3s 54ms/step - loss: 0.9311 - accuracy: 0.4863 - val_loss: 0.7705 - val_accuracy: 0.4550\n",
            "Epoch 6/10\n",
            "50/50 [==============================] - 3s 51ms/step - loss: 0.7416 - accuracy: 0.4888 - val_loss: 0.7209 - val_accuracy: 0.4225\n",
            "Epoch 7/10\n",
            "50/50 [==============================] - 2s 50ms/step - loss: 0.7196 - accuracy: 0.4737 - val_loss: 0.7217 - val_accuracy: 0.4000\n",
            "Epoch 8/10\n",
            "50/50 [==============================] - 2s 49ms/step - loss: 0.7050 - accuracy: 0.4969 - val_loss: 0.7370 - val_accuracy: 0.4475\n",
            "Epoch 9/10\n",
            "50/50 [==============================] - 2s 50ms/step - loss: 0.7027 - accuracy: 0.5138 - val_loss: 0.7303 - val_accuracy: 0.3850\n",
            "Epoch 10/10\n",
            "50/50 [==============================] - 3s 53ms/step - loss: 0.6983 - accuracy: 0.5113 - val_loss: 0.7423 - val_accuracy: 0.3725\n",
            "13/13 [==============================] - 0s 12ms/step\n",
            "\n",
            "Convolutional Neural Network Metrics:\n",
            "Accuracy: 0.3725\n",
            "Precision: 0.2727272727272727\n",
            "Recall: 0.14925373134328357\n",
            "F1 Score: 0.19292604501607716\n"
          ]
        }
      ]
    },
    {
      "cell_type": "code",
      "source": [
        "import os\n",
        "import numpy as np\n",
        "import cv2\n",
        "from sklearn.model_selection import train_test_split\n",
        "from sklearn.ensemble import RandomForestClassifier\n",
        "from sklearn import metrics\n",
        "from tensorflow.keras import layers, models\n",
        "from tensorflow.keras.utils import to_categorical\n",
        "from tensorflow.keras.callbacks import EarlyStopping"
      ],
      "metadata": {
        "id": "KvDfv2FM4ahF"
      },
      "execution_count": 22,
      "outputs": []
    },
    {
      "cell_type": "code",
      "source": [
        "# Function to read and preprocess images\n",
        "def read_images(dataset_path):\n",
        "    images = []\n",
        "    labels = []\n",
        "    for category in [\"cover\", \"stego\"]:\n",
        "        category_path = os.path.join(dataset_path, category)\n",
        "        for filename in os.listdir(category_path):\n",
        "            if filename.endswith(\".pgm\"):\n",
        "                img = cv2.imread(os.path.join(category_path, filename), cv2.IMREAD_GRAYSCALE)\n",
        "                img = cv2.resize(img, (128, 128))  # Resize image if needed\n",
        "                images.append(img)\n",
        "                labels.append(1 if category == \"stego\" else 0)\n",
        "\n",
        "    return np.array(images), np.array(labels)"
      ],
      "metadata": {
        "id": "f_4WPsDf4bS-"
      },
      "execution_count": 23,
      "outputs": []
    },
    {
      "cell_type": "code",
      "source": [
        "# Load dataset\n",
        "dataset_path = \"/content/drive/MyDrive/S uniward 0.4bpp\"\n",
        "X, y = read_images(dataset_path)"
      ],
      "metadata": {
        "id": "AWQvRSwz4fPe"
      },
      "execution_count": 24,
      "outputs": []
    },
    {
      "cell_type": "code",
      "source": [
        "# Check if the dataset is not empty\n",
        "if len(X) == 0:\n",
        "    print(\"Error: No images found in the specified folders.\")\n",
        "else:\n",
        "    # Split the dataset into training and testing sets\n",
        "    X_train, X_test, y_train, y_test = train_test_split(X, y, test_size=0.2, random_state=42)\n",
        "\n",
        "    # Convolutional Neural Network (Advanced)\n",
        "    model = models.Sequential()\n",
        "    model.add(layers.Conv2D(64, (3, 3), activation='relu', input_shape=(128, 128, 1)))\n",
        "    model.add(layers.BatchNormalization())\n",
        "    model.add(layers.MaxPooling2D((2, 2)))\n",
        "    model.add(layers.Conv2D(128, (3, 3), activation='relu'))\n",
        "    model.add(layers.BatchNormalization())\n",
        "    model.add(layers.MaxPooling2D((2, 2)))\n",
        "    model.add(layers.Conv2D(256, (3, 3), activation='relu'))\n",
        "    model.add(layers.BatchNormalization())\n",
        "    model.add(layers.MaxPooling2D((2, 2)))\n",
        "    model.add(layers.Flatten())\n",
        "    model.add(layers.Dense(512, activation='relu'))\n",
        "    model.add(layers.Dropout(0.5))\n",
        "    model.add(layers.Dense(1, activation='sigmoid'))\n",
        "\n",
        "    model.compile(optimizer='adam',\n",
        "                  loss='binary_crossentropy',\n",
        "                  metrics=['accuracy'])\n",
        "\n",
        "    # Reshape for CNN\n",
        "    X_train = X_train.reshape(-1, 128, 128, 1)\n",
        "    X_test = X_test.reshape(-1, 128, 128, 1)\n",
        "\n",
        "    # Use binary crossentropy as the loss function for binary classification\n",
        "    y_train = np.array(y_train)\n",
        "    y_test = np.array(y_test)\n",
        "\n",
        "    model.fit(X_train, y_train, epochs=20, batch_size=32, validation_data=(X_test, y_test), callbacks=[EarlyStopping(patience=3)])\n",
        "\n",
        "    # Evaluate the model on the test set\n",
        "    loss, accuracy = model.evaluate(X_test, y_test)\n",
        "    print(\"Test Accuracy:\", accuracy)\n",
        "\n",
        "    cnn_predictions = (model.predict(X_test) > 0.5).astype(\"int32\")\n",
        "\n",
        "    # Print CNN metrics\n",
        "    print(\"\\nConvolutional Neural Network Metrics:\")\n",
        "    print(\"Accuracy:\", metrics.accuracy_score(y_test, cnn_predictions))\n",
        "    print(\"Precision:\", metrics.precision_score(y_test, cnn_predictions))\n",
        "    print(\"Recall:\", metrics.recall_score(y_test, cnn_predictions))\n",
        "    print(\"F1 Score:\", metrics.f1_score(y_test, cnn_predictions))"
      ],
      "metadata": {
        "colab": {
          "base_uri": "https://localhost:8080/"
        },
        "id": "rf41JGnb4mdR",
        "outputId": "18ba07a5-67e5-43df-ac5a-ab3e29392beb"
      },
      "execution_count": 25,
      "outputs": [
        {
          "output_type": "stream",
          "name": "stdout",
          "text": [
            "Epoch 1/20\n",
            "50/50 [==============================] - 6s 57ms/step - loss: 12.5198 - accuracy: 0.4737 - val_loss: 59.9555 - val_accuracy: 0.4950\n",
            "Epoch 2/20\n",
            "50/50 [==============================] - 3s 54ms/step - loss: 6.1965 - accuracy: 0.4794 - val_loss: 2.5749 - val_accuracy: 0.4975\n",
            "Epoch 3/20\n",
            "50/50 [==============================] - 3s 50ms/step - loss: 1.9695 - accuracy: 0.4863 - val_loss: 1.8305 - val_accuracy: 0.4725\n",
            "Epoch 4/20\n",
            "50/50 [==============================] - 2s 49ms/step - loss: 0.8497 - accuracy: 0.4856 - val_loss: 2.5376 - val_accuracy: 0.4225\n",
            "Epoch 5/20\n",
            "50/50 [==============================] - 2s 49ms/step - loss: 0.7329 - accuracy: 0.5056 - val_loss: 2.2919 - val_accuracy: 0.3950\n",
            "Epoch 6/20\n",
            "50/50 [==============================] - 2s 50ms/step - loss: 0.7104 - accuracy: 0.5225 - val_loss: 0.7491 - val_accuracy: 0.4150\n",
            "Epoch 7/20\n",
            "50/50 [==============================] - 3s 51ms/step - loss: 0.7026 - accuracy: 0.4869 - val_loss: 0.7427 - val_accuracy: 0.4150\n",
            "Epoch 8/20\n",
            "50/50 [==============================] - 3s 50ms/step - loss: 0.6976 - accuracy: 0.5200 - val_loss: 0.7564 - val_accuracy: 0.3825\n",
            "Epoch 9/20\n",
            "50/50 [==============================] - 3s 50ms/step - loss: 0.6977 - accuracy: 0.5044 - val_loss: 0.7463 - val_accuracy: 0.3425\n",
            "Epoch 10/20\n",
            "50/50 [==============================] - 3s 50ms/step - loss: 0.6974 - accuracy: 0.5150 - val_loss: 0.7539 - val_accuracy: 0.3475\n",
            "13/13 [==============================] - 0s 11ms/step - loss: 0.7539 - accuracy: 0.3475\n",
            "Test Accuracy: 0.3474999964237213\n",
            "13/13 [==============================] - 0s 10ms/step\n",
            "\n",
            "Convolutional Neural Network Metrics:\n",
            "Accuracy: 0.3475\n",
            "Precision: 0.35148514851485146\n",
            "Recall: 0.35323383084577115\n",
            "F1 Score: 0.35235732009925563\n"
          ]
        }
      ]
    },
    {
      "cell_type": "code",
      "source": [
        "import os\n",
        "import numpy as np\n",
        "import cv2\n",
        "from sklearn.model_selection import train_test_split\n",
        "from sklearn.ensemble import RandomForestClassifier\n",
        "from sklearn import metrics\n",
        "from tensorflow.keras import layers, models\n",
        "from tensorflow.keras.utils import to_categorical\n",
        "from tensorflow.keras.preprocessing.image import ImageDataGenerator"
      ],
      "metadata": {
        "id": "k2DryK5O5fOz"
      },
      "execution_count": 26,
      "outputs": []
    },
    {
      "cell_type": "code",
      "source": [
        "# Function to read and preprocess images\n",
        "def read_and_preprocess_images(dataset_path):\n",
        "    images = []\n",
        "    labels = []\n",
        "    for category in [\"cover\", \"stego\"]:\n",
        "        category_path = os.path.join(dataset_path, category)\n",
        "        for filename in os.listdir(category_path):\n",
        "            if filename.endswith(\".pgm\"):\n",
        "                img = cv2.imread(os.path.join(category_path, filename), cv2.IMREAD_GRAYSCALE)\n",
        "                img = cv2.resize(img, (128, 128))  # Resize image if needed\n",
        "\n",
        "                # Apply histogram equalization\n",
        "                img = cv2.equalizeHist(img)\n",
        "\n",
        "                # Apply Local Binary Pattern\n",
        "                lbp = local_binary_pattern(img, P=8, R=1, method='uniform')\n",
        "                img = np.array(lbp, dtype=np.uint8)\n",
        "\n",
        "                images.append(img)\n",
        "                labels.append(1 if category == \"stego\" else 0)\n",
        "\n",
        "    return np.array(images), np.array(labels)\n",
        "\n"
      ],
      "metadata": {
        "id": "S8FAt-Ww5gUq"
      },
      "execution_count": 28,
      "outputs": []
    },
    {
      "cell_type": "code",
      "source": [
        "# Load and preprocess dataset\n",
        "dataset_path = \"/content/drive/MyDrive/S uniward 0.4bpp\"\n",
        "X, y = read_and_preprocess_images(dataset_path)\n"
      ],
      "metadata": {
        "colab": {
          "base_uri": "https://localhost:8080/",
          "height": 331
        },
        "id": "SUbyoQwW5sPy",
        "outputId": "21df0dc9-c7fd-424d-f329-cccc6cc6bd70"
      },
      "execution_count": 29,
      "outputs": [
        {
          "output_type": "error",
          "ename": "NameError",
          "evalue": "name 'local_binary_pattern' is not defined",
          "traceback": [
            "\u001b[0;31m---------------------------------------------------------------------------\u001b[0m",
            "\u001b[0;31mNameError\u001b[0m                                 Traceback (most recent call last)",
            "\u001b[0;32m<ipython-input-29-e65a859e6d2f>\u001b[0m in \u001b[0;36m<cell line: 3>\u001b[0;34m()\u001b[0m\n\u001b[1;32m      1\u001b[0m \u001b[0;31m# Load and preprocess dataset\u001b[0m\u001b[0;34m\u001b[0m\u001b[0;34m\u001b[0m\u001b[0m\n\u001b[1;32m      2\u001b[0m \u001b[0mdataset_path\u001b[0m \u001b[0;34m=\u001b[0m \u001b[0;34m\"/content/drive/MyDrive/S uniward 0.4bpp\"\u001b[0m\u001b[0;34m\u001b[0m\u001b[0;34m\u001b[0m\u001b[0m\n\u001b[0;32m----> 3\u001b[0;31m \u001b[0mX\u001b[0m\u001b[0;34m,\u001b[0m \u001b[0my\u001b[0m \u001b[0;34m=\u001b[0m \u001b[0mread_and_preprocess_images\u001b[0m\u001b[0;34m(\u001b[0m\u001b[0mdataset_path\u001b[0m\u001b[0;34m)\u001b[0m\u001b[0;34m\u001b[0m\u001b[0;34m\u001b[0m\u001b[0m\n\u001b[0m",
            "\u001b[0;32m<ipython-input-28-ce065688fe9e>\u001b[0m in \u001b[0;36mread_and_preprocess_images\u001b[0;34m(dataset_path)\u001b[0m\n\u001b[1;32m     14\u001b[0m \u001b[0;34m\u001b[0m\u001b[0m\n\u001b[1;32m     15\u001b[0m                 \u001b[0;31m# Apply Local Binary Pattern\u001b[0m\u001b[0;34m\u001b[0m\u001b[0;34m\u001b[0m\u001b[0m\n\u001b[0;32m---> 16\u001b[0;31m                 \u001b[0mlbp\u001b[0m \u001b[0;34m=\u001b[0m \u001b[0mlocal_binary_pattern\u001b[0m\u001b[0;34m(\u001b[0m\u001b[0mimg\u001b[0m\u001b[0;34m,\u001b[0m \u001b[0mP\u001b[0m\u001b[0;34m=\u001b[0m\u001b[0;36m8\u001b[0m\u001b[0;34m,\u001b[0m \u001b[0mR\u001b[0m\u001b[0;34m=\u001b[0m\u001b[0;36m1\u001b[0m\u001b[0;34m,\u001b[0m \u001b[0mmethod\u001b[0m\u001b[0;34m=\u001b[0m\u001b[0;34m'uniform'\u001b[0m\u001b[0;34m)\u001b[0m\u001b[0;34m\u001b[0m\u001b[0;34m\u001b[0m\u001b[0m\n\u001b[0m\u001b[1;32m     17\u001b[0m                 \u001b[0mimg\u001b[0m \u001b[0;34m=\u001b[0m \u001b[0mnp\u001b[0m\u001b[0;34m.\u001b[0m\u001b[0marray\u001b[0m\u001b[0;34m(\u001b[0m\u001b[0mlbp\u001b[0m\u001b[0;34m,\u001b[0m \u001b[0mdtype\u001b[0m\u001b[0;34m=\u001b[0m\u001b[0mnp\u001b[0m\u001b[0;34m.\u001b[0m\u001b[0muint8\u001b[0m\u001b[0;34m)\u001b[0m\u001b[0;34m\u001b[0m\u001b[0;34m\u001b[0m\u001b[0m\n\u001b[1;32m     18\u001b[0m \u001b[0;34m\u001b[0m\u001b[0m\n",
            "\u001b[0;31mNameError\u001b[0m: name 'local_binary_pattern' is not defined"
          ]
        }
      ]
    },
    {
      "cell_type": "code",
      "source": [
        "import os\n",
        "import numpy as np\n",
        "import cv2\n",
        "from skimage.feature import local_binary_pattern\n",
        "from sklearn.model_selection import train_test_split\n",
        "from sklearn.ensemble import RandomForestClassifier\n",
        "from sklearn import metrics\n",
        "from tensorflow.keras import layers, models\n",
        "from tensorflow.keras.utils import to_categorical\n",
        "from tensorflow.keras.preprocessing.image import ImageDataGenerator\n",
        "from tensorflow.keras.callbacks import EarlyStopping"
      ],
      "metadata": {
        "id": "HleZOnc058TR"
      },
      "execution_count": 30,
      "outputs": []
    },
    {
      "cell_type": "code",
      "source": [
        "# Function to read and preprocess images\n",
        "def read_and_preprocess_images(dataset_path):\n",
        "    images = []\n",
        "    labels = []\n",
        "    for category in [\"cover\", \"stego\"]:\n",
        "        category_path = os.path.join(dataset_path, category)\n",
        "        for filename in os.listdir(category_path):\n",
        "            if filename.endswith(\".pgm\"):\n",
        "                img = cv2.imread(os.path.join(category_path, filename), cv2.IMREAD_GRAYSCALE)\n",
        "                img = cv2.resize(img, (128, 128))  # Resize image if needed\n",
        "\n",
        "                # Apply histogram equalization\n",
        "                img = cv2.equalizeHist(img)\n",
        "\n",
        "                # Apply Local Binary Pattern\n",
        "                lbp = local_binary_pattern(img, P=8, R=1, method='uniform')\n",
        "                img = np.array(lbp, dtype=np.uint8)\n",
        "\n",
        "                images.append(img)\n",
        "                labels.append(1 if category == \"stego\" else 0)\n",
        "\n",
        "    return np.array(images), np.array(labels)"
      ],
      "metadata": {
        "id": "zYznDTmH5_vG"
      },
      "execution_count": 31,
      "outputs": []
    },
    {
      "cell_type": "code",
      "source": [
        "# Load and preprocess dataset\n",
        "dataset_path = \"/content/drive/MyDrive/S uniward 0.4bpp\"\n",
        "X, y = read_and_preprocess_images(dataset_path)"
      ],
      "metadata": {
        "id": "RMMZSSeT6CuB"
      },
      "execution_count": 32,
      "outputs": []
    },
    {
      "cell_type": "code",
      "source": [
        "# Check if the dataset is not empty\n",
        "if len(X) == 0:\n",
        "    print(\"Error: No images found in the specified folders.\")\n",
        "else:\n",
        "    # Split the dataset into training and testing sets\n",
        "    X_train, X_test, y_train, y_test = train_test_split(X, y, test_size=0.2, random_state=42)\n",
        "\n",
        "    # Reshape for CNN\n",
        "    X_train = X_train.reshape(-1, 128, 128, 1)\n",
        "    X_test = X_test.reshape(-1, 128, 128, 1)\n",
        "\n",
        "    # Normalize pixel values\n",
        "    X_train = X_train / 255.0\n",
        "    X_test = X_test / 255.0\n",
        "\n",
        "    # Use binary crossentropy as the loss function for binary classification\n",
        "    y_train = np.array(y_train)\n",
        "    y_test = np.array(y_test)\n",
        "\n",
        "    # Data Augmentation\n",
        "    datagen = ImageDataGenerator(rotation_range=20, width_shift_range=0.2, height_shift_range=0.2, horizontal_flip=True)\n",
        "    datagen.fit(X_train)\n",
        "\n",
        "    # Convolutional Neural Network (Advanced)\n",
        "    model = models.Sequential()\n",
        "    model.add(layers.Conv2D(64, (3, 3), activation='relu', input_shape=(128, 128, 1)))\n",
        "    model.add(layers.BatchNormalization())\n",
        "    model.add(layers.MaxPooling2D((2, 2)))\n",
        "    model.add(layers.Conv2D(128, (3, 3), activation='relu'))\n",
        "    model.add(layers.BatchNormalization())\n",
        "    model.add(layers.MaxPooling2D((2, 2)))\n",
        "    model.add(layers.Conv2D(256, (3, 3), activation='relu'))\n",
        "    model.add(layers.BatchNormalization())\n",
        "    model.add(layers.MaxPooling2D((2, 2)))\n",
        "    model.add(layers.Flatten())\n",
        "    model.add(layers.Dense(512, activation='relu'))\n",
        "    model.add(layers.Dropout(0.5))\n",
        "    model.add(layers.Dense(1, activation='sigmoid'))\n",
        "\n",
        "    model.compile(optimizer='adam',\n",
        "                  loss='binary_crossentropy',\n",
        "                  metrics=['accuracy'])\n",
        "\n",
        "    # Train the model with data augmentation\n",
        "    model.fit(datagen.flow(X_train, y_train, batch_size=32), epochs=20, validation_data=(X_test, y_test), callbacks=[EarlyStopping(patience=3)])\n",
        "\n",
        "    # Evaluate the model on the test set\n",
        "    loss, accuracy = model.evaluate(X_test, y_test)\n",
        "    print(\"Test Accuracy:\", accuracy)\n",
        "\n",
        "    cnn_predictions = (model.predict(X_test) > 0.5).astype(\"int32\")\n",
        "\n",
        "    # Print CNN metrics\n",
        "    print(\"\\nConvolutional Neural Network Metrics:\")\n",
        "    print(\"Accuracy:\", metrics.accuracy_score(y_test, cnn_predictions))\n",
        "    print(\"Precision:\", metrics.precision_score(y_test, cnn_predictions))\n",
        "    print(\"Recall:\", metrics.recall_score(y_test, cnn_predictions))\n",
        "    print(\"F1 Score:\", metrics.f1_score(y_test, cnn_predictions))"
      ],
      "metadata": {
        "colab": {
          "base_uri": "https://localhost:8080/"
        },
        "id": "nFCoZFYb6HmF",
        "outputId": "f5e4b01f-496d-47d1-9c66-d04a5da7da8d"
      },
      "execution_count": 33,
      "outputs": [
        {
          "output_type": "stream",
          "name": "stdout",
          "text": [
            "Epoch 1/20\n",
            "50/50 [==============================] - 6s 69ms/step - loss: 14.3133 - accuracy: 0.5013 - val_loss: 20.2471 - val_accuracy: 0.5025\n",
            "Epoch 2/20\n",
            "50/50 [==============================] - 4s 87ms/step - loss: 2.2989 - accuracy: 0.4725 - val_loss: 6.4801 - val_accuracy: 0.5025\n",
            "Epoch 3/20\n",
            "50/50 [==============================] - 3s 68ms/step - loss: 0.7572 - accuracy: 0.4969 - val_loss: 4.6657 - val_accuracy: 0.5025\n",
            "Epoch 4/20\n",
            "50/50 [==============================] - 3s 69ms/step - loss: 0.7147 - accuracy: 0.5056 - val_loss: 3.3069 - val_accuracy: 0.5025\n",
            "Epoch 5/20\n",
            "50/50 [==============================] - 4s 72ms/step - loss: 0.7033 - accuracy: 0.5000 - val_loss: 3.5984 - val_accuracy: 0.5025\n",
            "Epoch 6/20\n",
            "50/50 [==============================] - 4s 79ms/step - loss: 0.7018 - accuracy: 0.5088 - val_loss: 3.3844 - val_accuracy: 0.5025\n",
            "Epoch 7/20\n",
            "50/50 [==============================] - 3s 69ms/step - loss: 0.6949 - accuracy: 0.5181 - val_loss: 4.0721 - val_accuracy: 0.5025\n",
            "13/13 [==============================] - 0s 12ms/step - loss: 4.0721 - accuracy: 0.5025\n",
            "Test Accuracy: 0.5024999976158142\n",
            "13/13 [==============================] - 0s 11ms/step\n",
            "\n",
            "Convolutional Neural Network Metrics:\n",
            "Accuracy: 0.5025\n",
            "Precision: 0.5025\n",
            "Recall: 1.0\n",
            "F1 Score: 0.6688851913477537\n"
          ]
        }
      ]
    },
    {
      "cell_type": "code",
      "source": [
        "import os\n",
        "import numpy as np\n",
        "import cv2\n",
        "from skimage.feature import local_binary_pattern\n",
        "from sklearn.model_selection import train_test_split\n",
        "from sklearn.ensemble import RandomForestClassifier\n",
        "from sklearn import metrics\n",
        "from tensorflow.keras import layers, models\n",
        "from tensorflow.keras.utils import to_categorical\n",
        "from tensorflow.keras.preprocessing.image import ImageDataGenerator\n",
        "from tensorflow.keras.callbacks import EarlyStopping"
      ],
      "metadata": {
        "id": "LnTC-f9S6erf"
      },
      "execution_count": 34,
      "outputs": []
    },
    {
      "cell_type": "code",
      "source": [
        "# Function to read and preprocess images\n",
        "def read_and_preprocess_images(dataset_path):\n",
        "    images = []\n",
        "    labels = []\n",
        "    for category in [\"cover\", \"stego\"]:\n",
        "        category_path = os.path.join(dataset_path, category)\n",
        "        for filename in os.listdir(category_path):\n",
        "            if filename.endswith(\".pgm\"):\n",
        "                img = cv2.imread(os.path.join(category_path, filename), cv2.IMREAD_GRAYSCALE)\n",
        "                img = cv2.resize(img, (128, 128))  # Resize image if needed\n",
        "\n",
        "                # Apply histogram equalization\n",
        "                img = cv2.equalizeHist(img)\n",
        "\n",
        "                # Apply Local Binary Pattern\n",
        "                lbp = local_binary_pattern(img, P=8, R=1, method='uniform')\n",
        "                img = np.array(lbp, dtype=np.uint8)\n",
        "\n",
        "                images.append(img)\n",
        "                labels.append(1 if category == \"stego\" else 0)\n",
        "\n",
        "    return np.array(images), np.array(labels)"
      ],
      "metadata": {
        "id": "Ix706r-96-Rs"
      },
      "execution_count": 35,
      "outputs": []
    },
    {
      "cell_type": "code",
      "source": [
        "# Load and preprocess dataset\n",
        "dataset_path = \"/content/drive/MyDrive/S uniward 0.4bpp\"\n",
        "X, y = read_and_preprocess_images(dataset_path)"
      ],
      "metadata": {
        "id": "njPrMFi_7EP0"
      },
      "execution_count": 36,
      "outputs": []
    },
    {
      "cell_type": "code",
      "source": [
        "# Check if the dataset is not empty\n",
        "if len(X) == 0:\n",
        "    print(\"Error: No images found in the specified folders.\")\n",
        "else:\n",
        "    # Split the dataset into training and testing sets\n",
        "    X_train, X_test, y_train, y_test = train_test_split(X, y, test_size=0.2, random_state=42)\n",
        "\n",
        "    # Reshape for CNN\n",
        "    X_train = X_train.reshape(-1, 128, 128, 1)\n",
        "    X_test = X_test.reshape(-1, 128, 128, 1)\n",
        "\n",
        "    # Normalize pixel values\n",
        "    X_train = X_train / 255.0\n",
        "    X_test = X_test / 255.0\n",
        "\n",
        "    # Use binary crossentropy as the loss function for binary classification\n",
        "    y_train = np.array(y_train)\n",
        "    y_test = np.array(y_test)\n",
        "\n",
        "    # Data Augmentation\n",
        "    datagen = ImageDataGenerator(rotation_range=20, width_shift_range=0.2, height_shift_range=0.2, horizontal_flip=True)\n",
        "    datagen.fit(X_train)\n",
        "\n",
        "    # Convolutional Neural Network (Improved)\n",
        "    model = models.Sequential()\n",
        "    model.add(layers.Conv2D(64, (3, 3), activation='relu', input_shape=(128, 128, 1)))\n",
        "    model.add(layers.BatchNormalization())\n",
        "    model.add(layers.MaxPooling2D((2, 2)))\n",
        "    model.add(layers.Conv2D(128, (3, 3), activation='relu'))\n",
        "    model.add(layers.BatchNormalization())\n",
        "    model.add(layers.MaxPooling2D((2, 2)))\n",
        "    model.add(layers.Conv2D(256, (3, 3), activation='relu'))\n",
        "    model.add(layers.BatchNormalization())\n",
        "    model.add(layers.MaxPooling2D((2, 2)))\n",
        "    model.add(layers.Flatten())\n",
        "    model.add(layers.Dense(512, activation='relu'))\n",
        "    model.add(layers.Dropout(0.5))\n",
        "    model.add(layers.Dense(1, activation='sigmoid'))\n",
        "\n",
        "    model.compile(optimizer='adam',\n",
        "                  loss='binary_crossentropy',\n",
        "                  metrics=['accuracy'])\n",
        "\n",
        "    # Train the model with data augmentation\n",
        "    history = model.fit(datagen.flow(X_train, y_train, batch_size=32),\n",
        "                        epochs=30,\n",
        "                        validation_data=(X_test, y_test),\n",
        "                        callbacks=[EarlyStopping(patience=5)])\n",
        "\n",
        "    # Evaluate the model on the test set\n",
        "    loss, accuracy = model.evaluate(X_test, y_test)\n",
        "    print(\"Test Accuracy:\", accuracy)\n",
        "\n",
        "    cnn_predictions = (model.predict(X_test) > 0.5).astype(\"int32\")\n",
        "\n",
        "    # Print CNN metrics\n",
        "    print(\"\\nConvolutional Neural Network Metrics:\")\n",
        "    print(\"Accuracy:\", metrics.accuracy_score(y_test, cnn_predictions))\n",
        "    print(\"Precision:\", metrics.precision_score(y_test, cnn_predictions))\n",
        "    print(\"Recall:\", metrics.recall_score(y_test, cnn_predictions))\n",
        "    print(\"F1 Score:\", metrics.f1_score(y_test, cnn_predictions))"
      ],
      "metadata": {
        "colab": {
          "base_uri": "https://localhost:8080/"
        },
        "id": "Vz4vw-Qv7FM-",
        "outputId": "be8acaba-05d5-4ff8-b1d4-aed7fab75e2d"
      },
      "execution_count": 38,
      "outputs": [
        {
          "output_type": "stream",
          "name": "stdout",
          "text": [
            "Epoch 1/30\n",
            "50/50 [==============================] - 6s 75ms/step - loss: 7.9070 - accuracy: 0.5063 - val_loss: 43.2694 - val_accuracy: 0.4975\n",
            "Epoch 2/30\n",
            "50/50 [==============================] - 4s 84ms/step - loss: 1.1587 - accuracy: 0.5100 - val_loss: 45.1267 - val_accuracy: 0.4975\n",
            "Epoch 3/30\n",
            "50/50 [==============================] - 3s 69ms/step - loss: 0.7021 - accuracy: 0.5163 - val_loss: 51.0740 - val_accuracy: 0.4975\n",
            "Epoch 4/30\n",
            "50/50 [==============================] - 4s 70ms/step - loss: 0.7225 - accuracy: 0.5044 - val_loss: 53.3341 - val_accuracy: 0.4975\n",
            "Epoch 5/30\n",
            "50/50 [==============================] - 4s 89ms/step - loss: 0.6993 - accuracy: 0.5019 - val_loss: 46.3740 - val_accuracy: 0.4975\n",
            "Epoch 6/30\n",
            "50/50 [==============================] - 3s 66ms/step - loss: 0.6976 - accuracy: 0.4869 - val_loss: 45.3047 - val_accuracy: 0.4975\n",
            "13/13 [==============================] - 0s 12ms/step - loss: 45.3047 - accuracy: 0.4975\n",
            "Test Accuracy: 0.4975000023841858\n",
            "13/13 [==============================] - 0s 11ms/step\n",
            "\n",
            "Convolutional Neural Network Metrics:\n",
            "Accuracy: 0.4975\n",
            "Precision: 0.0\n",
            "Recall: 0.0\n",
            "F1 Score: 0.0\n"
          ]
        },
        {
          "output_type": "stream",
          "name": "stderr",
          "text": [
            "/usr/local/lib/python3.10/dist-packages/sklearn/metrics/_classification.py:1344: UndefinedMetricWarning: Precision is ill-defined and being set to 0.0 due to no predicted samples. Use `zero_division` parameter to control this behavior.\n",
            "  _warn_prf(average, modifier, msg_start, len(result))\n"
          ]
        }
      ]
    },
    {
      "cell_type": "code",
      "source": [
        "import os\n",
        "import numpy as np\n",
        "import cv2\n",
        "from skimage.feature import local_binary_pattern\n",
        "from sklearn.model_selection import train_test_split\n",
        "from sklearn import metrics\n",
        "from tensorflow.keras import layers, models\n",
        "from tensorflow.keras.utils import to_categorical\n",
        "from tensorflow.keras.preprocessing.image import ImageDataGenerator\n",
        "from tensorflow.keras.callbacks import EarlyStopping"
      ],
      "metadata": {
        "id": "1askaGnO7_j2"
      },
      "execution_count": 39,
      "outputs": []
    },
    {
      "cell_type": "code",
      "source": [
        "# Function to read and preprocess images\n",
        "def read_and_preprocess_images(dataset_path):\n",
        "    images = []\n",
        "    labels = []\n",
        "    for category in [\"cover\", \"stego\"]:\n",
        "        category_path = os.path.join(dataset_path, category)\n",
        "        for filename in os.listdir(category_path):\n",
        "            if filename.endswith(\".pgm\"):\n",
        "                img = cv2.imread(os.path.join(category_path, filename), cv2.IMREAD_GRAYSCALE)\n",
        "                img = cv2.resize(img, (128, 128))  # Resize image if needed\n",
        "\n",
        "                # Apply histogram equalization\n",
        "                img = cv2.equalizeHist(img)\n",
        "\n",
        "                # Apply Local Binary Pattern\n",
        "                lbp = local_binary_pattern(img, P=8, R=1, method='uniform')\n",
        "                img = np.array(lbp, dtype=np.uint8)\n",
        "\n",
        "                images.append(img)\n",
        "                labels.append(1 if category == \"stego\" else 0)\n",
        "\n",
        "    return np.array(images), np.array(labels)"
      ],
      "metadata": {
        "id": "kFQl4SoR8Z6o"
      },
      "execution_count": 40,
      "outputs": []
    },
    {
      "cell_type": "code",
      "source": [
        "# Load and preprocess dataset\n",
        "dataset_path = \"/content/drive/MyDrive/S uniward 0.4bpp\"\n",
        "X, y = read_and_preprocess_images(dataset_path)"
      ],
      "metadata": {
        "id": "UDSRBSkh85sr"
      },
      "execution_count": 41,
      "outputs": []
    },
    {
      "cell_type": "code",
      "source": [
        "# Check if the dataset is not empty\n",
        "if len(X) == 0:\n",
        "    print(\"Error: No images found in the specified folders.\")\n",
        "else:\n",
        "    # Split the dataset into training and testing sets\n",
        "    X_train, X_test, y_train, y_test = train_test_split(X, y, test_size=0.2, random_state=42)\n",
        "\n",
        "    # Reshape for CNN\n",
        "    X_train = X_train.reshape(-1, 128, 128, 1)\n",
        "    X_test = X_test.reshape(-1, 128, 128, 1)\n",
        "\n",
        "    # Normalize pixel values\n",
        "    X_train = X_train / 255.0\n",
        "    X_test = X_test / 255.0\n",
        "\n",
        "    # Use binary crossentropy as the loss function for binary classification\n",
        "    y_train = np.array(y_train)\n",
        "    y_test = np.array(y_test)\n",
        "\n",
        "    # Data Augmentation\n",
        "    datagen = ImageDataGenerator(rotation_range=20, width_shift_range=0.2, height_shift_range=0.2, horizontal_flip=True)\n",
        "    datagen.fit(X_train)\n",
        "\n",
        "    # Convolutional Neural Network (Improved)\n",
        "    model = models.Sequential()\n",
        "    model.add(layers.Conv2D(32, (3, 3), activation='relu', input_shape=(128, 128, 1)))\n",
        "    model.add(layers.MaxPooling2D((2, 2)))\n",
        "    model.add(layers.Conv2D(64, (3, 3), activation='relu'))\n",
        "    model.add(layers.MaxPooling2D((2, 2)))\n",
        "    model.add(layers.Conv2D(128, (3, 3), activation='relu'))\n",
        "    model.add(layers.MaxPooling2D((2, 2)))\n",
        "    model.add(layers.Flatten())\n",
        "    model.add(layers.Dense(256, activation='relu'))\n",
        "    model.add(layers.Dropout(0.5))\n",
        "    model.add(layers.Dense(1, activation='sigmoid'))\n",
        "\n",
        "    model.compile(optimizer='adam',\n",
        "                  loss='binary_crossentropy',\n",
        "                  metrics=['accuracy'])\n",
        "\n",
        "    # Train the model with data augmentation\n",
        "    history = model.fit(datagen.flow(X_train, y_train, batch_size=32),\n",
        "                        epochs=30,\n",
        "                        validation_data=(X_test, y_test),\n",
        "                        callbacks=[EarlyStopping(patience=5)])\n",
        "\n",
        "    # Evaluate the model on the test set\n",
        "    loss, accuracy = model.evaluate(X_test, y_test)\n",
        "    print(\"Test Accuracy:\", accuracy)\n",
        "\n",
        "    cnn_predictions = (model.predict(X_test) > 0.5).astype(\"int32\")\n",
        "\n",
        "    # Print CNN metrics\n",
        "    print(\"\\nConvolutional Neural Network Metrics:\")\n",
        "    print(\"Accuracy:\", metrics.accuracy_score(y_test, cnn_predictions))\n",
        "    print(\"Precision:\", metrics.precision_score(y_test, cnn_predictions))\n",
        "    print(\"Recall:\", metrics.recall_score(y_test, cnn_predictions))\n",
        "    print(\"F1 Score:\", metrics.f1_score(y_test, cnn_predictions))"
      ],
      "metadata": {
        "colab": {
          "base_uri": "https://localhost:8080/"
        },
        "id": "yv5btqw_9RnK",
        "outputId": "b931c0f5-b22e-4301-bd5e-baad08952573"
      },
      "execution_count": 42,
      "outputs": [
        {
          "output_type": "stream",
          "name": "stdout",
          "text": [
            "Epoch 1/30\n",
            "50/50 [==============================] - 5s 55ms/step - loss: 0.6945 - accuracy: 0.4969 - val_loss: 0.6932 - val_accuracy: 0.4975\n",
            "Epoch 2/30\n",
            "50/50 [==============================] - 4s 80ms/step - loss: 0.6935 - accuracy: 0.4900 - val_loss: 0.6931 - val_accuracy: 0.5025\n",
            "Epoch 3/30\n",
            "50/50 [==============================] - 3s 57ms/step - loss: 0.6932 - accuracy: 0.5056 - val_loss: 0.6931 - val_accuracy: 0.5025\n",
            "Epoch 4/30\n",
            "50/50 [==============================] - 3s 52ms/step - loss: 0.6933 - accuracy: 0.4975 - val_loss: 0.6931 - val_accuracy: 0.5025\n",
            "Epoch 5/30\n",
            "50/50 [==============================] - 3s 55ms/step - loss: 0.6934 - accuracy: 0.4725 - val_loss: 0.6931 - val_accuracy: 0.5025\n",
            "Epoch 6/30\n",
            "50/50 [==============================] - 3s 55ms/step - loss: 0.6932 - accuracy: 0.4969 - val_loss: 0.6931 - val_accuracy: 0.5025\n",
            "Epoch 7/30\n",
            "50/50 [==============================] - 3s 54ms/step - loss: 0.6932 - accuracy: 0.5025 - val_loss: 0.6932 - val_accuracy: 0.4975\n",
            "13/13 [==============================] - 0s 7ms/step - loss: 0.6932 - accuracy: 0.4975\n",
            "Test Accuracy: 0.4975000023841858\n",
            "13/13 [==============================] - 0s 5ms/step\n",
            "\n",
            "Convolutional Neural Network Metrics:\n",
            "Accuracy: 0.4975\n",
            "Precision: 0.0\n",
            "Recall: 0.0\n",
            "F1 Score: 0.0\n"
          ]
        },
        {
          "output_type": "stream",
          "name": "stderr",
          "text": [
            "/usr/local/lib/python3.10/dist-packages/sklearn/metrics/_classification.py:1344: UndefinedMetricWarning: Precision is ill-defined and being set to 0.0 due to no predicted samples. Use `zero_division` parameter to control this behavior.\n",
            "  _warn_prf(average, modifier, msg_start, len(result))\n"
          ]
        }
      ]
    },
    {
      "cell_type": "code",
      "source": [
        "import os\n",
        "import numpy as np\n",
        "import cv2\n",
        "from skimage.feature import local_binary_pattern\n",
        "from sklearn.model_selection import train_test_split\n",
        "from sklearn import metrics\n",
        "from tensorflow.keras import layers, models, optimizers\n",
        "from tensorflow.keras.preprocessing.image import ImageDataGenerator\n",
        "from tensorflow.keras.callbacks import EarlyStopping\n"
      ],
      "metadata": {
        "id": "G7DWPh0T-FXC"
      },
      "execution_count": 43,
      "outputs": []
    },
    {
      "cell_type": "code",
      "source": [
        "# Function to read and preprocess images\n",
        "def read_and_preprocess_images(dataset_path):\n",
        "    images = []\n",
        "    labels = []\n",
        "    for category in [\"cover\", \"stego\"]:\n",
        "        category_path = os.path.join(dataset_path, category)\n",
        "        for filename in os.listdir(category_path):\n",
        "            if filename.endswith(\".pgm\"):\n",
        "                img = cv2.imread(os.path.join(category_path, filename), cv2.IMREAD_GRAYSCALE)\n",
        "                img = cv2.resize(img, (128, 128))  # Resize image if needed\n",
        "\n",
        "                # Apply histogram equalization\n",
        "                img = cv2.equalizeHist(img)\n",
        "\n",
        "                # Apply Local Binary Pattern\n",
        "                lbp = local_binary_pattern(img, P=8, R=1, method='uniform')\n",
        "                img = np.array(lbp, dtype=np.uint8)\n",
        "\n",
        "                images.append(img)\n",
        "                labels.append(1 if category == \"stego\" else 0)\n",
        "\n",
        "    return np.array(images), np.array(labels)"
      ],
      "metadata": {
        "id": "J6h62ezw-GEc"
      },
      "execution_count": 44,
      "outputs": []
    },
    {
      "cell_type": "code",
      "source": [
        "\n",
        "# Load and preprocess dataset\n",
        "dataset_path = \"/content/drive/MyDrive/S uniward 0.4bpp\"\n",
        "X, y = read_and_preprocess_images(dataset_path)"
      ],
      "metadata": {
        "id": "8N2ebDuA-L_p"
      },
      "execution_count": 45,
      "outputs": []
    },
    {
      "cell_type": "code",
      "source": [
        "# Check if the dataset is not empty\n",
        "if len(X) == 0:\n",
        "    print(\"Error: No images found in the specified folders.\")\n",
        "else:\n",
        "    # Split the dataset into training and testing sets\n",
        "    X_train, X_test, y_train, y_test = train_test_split(X, y, test_size=0.2, random_state=42)\n",
        "\n",
        "    # Reshape for CNN\n",
        "    X_train = X_train.reshape(-1, 128, 128, 1)\n",
        "    X_test = X_test.reshape(-1, 128, 128, 1)\n",
        "\n",
        "    # Normalize pixel values\n",
        "    X_train = X_train / 255.0\n",
        "    X_test = X_test / 255.0\n",
        "\n",
        "    # Use binary crossentropy as the loss function for binary classification\n",
        "    y_train = np.array(y_train)\n",
        "    y_test = np.array(y_test)\n",
        "\n",
        "    # Data Augmentation\n",
        "    datagen = ImageDataGenerator(rotation_range=20, width_shift_range=0.2, height_shift_range=0.2, horizontal_flip=True)\n",
        "    datagen.fit(X_train)\n",
        "\n",
        "    # Convolutional Neural Network (Improved)\n",
        "    model = models.Sequential()\n",
        "    model.add(layers.Conv2D(32, (3, 3), activation='relu', input_shape=(128, 128, 1)))\n",
        "    model.add(layers.MaxPooling2D((2, 2)))\n",
        "    model.add(layers.Conv2D(64, (3, 3), activation='relu'))\n",
        "    model.add(layers.MaxPooling2D((2, 2)))\n",
        "    model.add(layers.Conv2D(128, (3, 3), activation='relu'))\n",
        "    model.add(layers.MaxPooling2D((2, 2)))\n",
        "    model.add(layers.Flatten())\n",
        "    model.add(layers.Dense(256, activation='relu'))\n",
        "    model.add(layers.Dropout(0.5))\n",
        "    model.add(layers.Dense(1, activation='sigmoid'))\n",
        "\n",
        "    # Adjusting class weights\n",
        "    class_weights = {0: 1.0, 1: 2.0}  # Adjust weights based on your dataset\n",
        "\n",
        "    model.compile(optimizer=optimizers.Adam(learning_rate=0.0001),\n",
        "                  loss='binary_crossentropy',\n",
        "                  metrics=['accuracy'])\n",
        "\n",
        "    # Train the model with data augmentation and class weights\n",
        "    history = model.fit(datagen.flow(X_train, y_train, batch_size=32, class_weight=class_weights),\n",
        "                        epochs=30,\n",
        "                        validation_data=(X_test, y_test),\n",
        "                        callbacks=[EarlyStopping(patience=5)])\n",
        "\n",
        "    # Evaluate the model on the test set\n",
        "    loss, accuracy = model.evaluate(X_test, y_test)\n",
        "    print(\"Test Accuracy:\", accuracy)\n",
        "\n",
        "    cnn_predictions = (model.predict(X_test) > 0.5).astype(\"int32\")\n",
        "\n",
        "    # Print CNN metrics\n",
        "    print(\"\\nConvolutional Neural Network Metrics:\")\n",
        "    print(\"Accuracy:\", metrics.accuracy_score(y_test, cnn_predictions))\n",
        "    print(\"Precision:\", metrics.precision_score(y_test, cnn_predictions))\n",
        "    print(\"Recall:\", metrics.recall_score(y_test, cnn_predictions))\n",
        "    print(\"F1 Score:\", metrics.f1_score(y_test, cnn_predictions))"
      ],
      "metadata": {
        "colab": {
          "base_uri": "https://localhost:8080/",
          "height": 245
        },
        "id": "cewpiSs7-Oi6",
        "outputId": "bf8a3a1f-d42a-419e-f2de-ee55fafe1972"
      },
      "execution_count": 46,
      "outputs": [
        {
          "output_type": "error",
          "ename": "TypeError",
          "evalue": "ImageDataGenerator.flow() got an unexpected keyword argument 'class_weight'",
          "traceback": [
            "\u001b[0;31m---------------------------------------------------------------------------\u001b[0m",
            "\u001b[0;31mTypeError\u001b[0m                                 Traceback (most recent call last)",
            "\u001b[0;32m<ipython-input-46-ace14e9bdb00>\u001b[0m in \u001b[0;36m<cell line: 2>\u001b[0;34m()\u001b[0m\n\u001b[1;32m     43\u001b[0m \u001b[0;34m\u001b[0m\u001b[0m\n\u001b[1;32m     44\u001b[0m     \u001b[0;31m# Train the model with data augmentation and class weights\u001b[0m\u001b[0;34m\u001b[0m\u001b[0;34m\u001b[0m\u001b[0m\n\u001b[0;32m---> 45\u001b[0;31m     history = model.fit(datagen.flow(X_train, y_train, batch_size=32, class_weight=class_weights),\n\u001b[0m\u001b[1;32m     46\u001b[0m                         \u001b[0mepochs\u001b[0m\u001b[0;34m=\u001b[0m\u001b[0;36m30\u001b[0m\u001b[0;34m,\u001b[0m\u001b[0;34m\u001b[0m\u001b[0;34m\u001b[0m\u001b[0m\n\u001b[1;32m     47\u001b[0m                         \u001b[0mvalidation_data\u001b[0m\u001b[0;34m=\u001b[0m\u001b[0;34m(\u001b[0m\u001b[0mX_test\u001b[0m\u001b[0;34m,\u001b[0m \u001b[0my_test\u001b[0m\u001b[0;34m)\u001b[0m\u001b[0;34m,\u001b[0m\u001b[0;34m\u001b[0m\u001b[0;34m\u001b[0m\u001b[0m\n",
            "\u001b[0;31mTypeError\u001b[0m: ImageDataGenerator.flow() got an unexpected keyword argument 'class_weight'"
          ]
        }
      ]
    },
    {
      "cell_type": "code",
      "source": [
        "import os\n",
        "import numpy as np\n",
        "import cv2\n",
        "from skimage.feature import local_binary_pattern\n",
        "from sklearn.model_selection import train_test_split\n",
        "from sklearn import metrics\n",
        "from tensorflow.keras import layers, models, optimizers\n",
        "from tensorflow.keras.preprocessing.image import ImageDataGenerator\n",
        "from tensorflow.keras.callbacks import EarlyStopping"
      ],
      "metadata": {
        "id": "NSyXOUpl-w2a"
      },
      "execution_count": 47,
      "outputs": []
    },
    {
      "cell_type": "code",
      "source": [
        "# Function to read and preprocess images\n",
        "def read_and_preprocess_images(dataset_path):\n",
        "    images = []\n",
        "    labels = []\n",
        "    for category in [\"cover\", \"stego\"]:\n",
        "        category_path = os.path.join(dataset_path, category)\n",
        "        for filename in os.listdir(category_path):\n",
        "            if filename.endswith(\".pgm\"):\n",
        "                img = cv2.imread(os.path.join(category_path, filename), cv2.IMREAD_GRAYSCALE)\n",
        "                img = cv2.resize(img, (128, 128))  # Resize image if needed\n",
        "\n",
        "                # Apply histogram equalization\n",
        "                img = cv2.equalizeHist(img)\n",
        "\n",
        "                # Apply Local Binary Pattern\n",
        "                lbp = local_binary_pattern(img, P=8, R=1, method='uniform')\n",
        "                img = np.array(lbp, dtype=np.uint8)\n",
        "\n",
        "                images.append(img)\n",
        "                labels.append(1 if category == \"stego\" else 0)\n",
        "\n",
        "    return np.array(images), np.array(labels)"
      ],
      "metadata": {
        "id": "Oghe6Ut2-xmk"
      },
      "execution_count": 48,
      "outputs": []
    },
    {
      "cell_type": "code",
      "source": [
        "# Load and preprocess dataset\n",
        "dataset_path = \"/content/drive/MyDrive/S uniward 0.4bpp\"\n",
        "X, y = read_and_preprocess_images(dataset_path)"
      ],
      "metadata": {
        "id": "7fvD1UHz-0k1"
      },
      "execution_count": 49,
      "outputs": []
    },
    {
      "cell_type": "code",
      "source": [
        "# Check if the dataset is not empty\n",
        "if len(X) == 0:\n",
        "    print(\"Error: No images found in the specified folders.\")\n",
        "else:\n",
        "    # Split the dataset into training and testing sets\n",
        "    X_train, X_test, y_train, y_test = train_test_split(X, y, test_size=0.2, random_state=42)\n",
        "\n",
        "    # Reshape for CNN\n",
        "    X_train = X_train.reshape(-1, 128, 128, 1)\n",
        "    X_test = X_test.reshape(-1, 128, 128, 1)\n",
        "\n",
        "    # Normalize pixel values\n",
        "    X_train = X_train / 255.0\n",
        "    X_test = X_test / 255.0\n",
        "\n",
        "    # Use binary crossentropy as the loss function for binary classification\n",
        "    y_train = np.array(y_train)\n",
        "    y_test = np.array(y_test)\n",
        "\n",
        "    # Data Augmentation\n",
        "    datagen = ImageDataGenerator(rotation_range=20, width_shift_range=0.2, height_shift_range=0.2, horizontal_flip=True)\n",
        "\n",
        "    # Convolutional Neural Network (Improved)\n",
        "    model = models.Sequential()\n",
        "    model.add(layers.Conv2D(32, (3, 3), activation='relu', input_shape=(128, 128, 1)))\n",
        "    model.add(layers.MaxPooling2D((2, 2)))\n",
        "    model.add(layers.Conv2D(64, (3, 3), activation='relu'))\n",
        "    model.add(layers.MaxPooling2D((2, 2)))\n",
        "    model.add(layers.Conv2D(128, (3, 3), activation='relu'))\n",
        "    model.add(layers.MaxPooling2D((2, 2)))\n",
        "    model.add(layers.Flatten())\n",
        "    model.add(layers.Dense(256, activation='relu'))\n",
        "    model.add(layers.Dropout(0.5))\n",
        "    model.add(layers.Dense(1, activation='sigmoid'))\n",
        "\n",
        "    # Adjusting class weights\n",
        "    class_weights = {0: 1.0, 1: 2.0}  # Adjust weights based on your dataset\n",
        "\n",
        "    model.compile(optimizer=optimizers.Adam(learning_rate=0.0001),\n",
        "                  loss='binary_crossentropy',\n",
        "                  metrics=['accuracy'])\n",
        "\n",
        "    # Train the model with data augmentation and class weights\n",
        "    history = model.fit(datagen.flow(X_train, y_train, batch_size=32),\n",
        "                        epochs=30,\n",
        "                        validation_data=(X_test, y_test),\n",
        "                        class_weight=class_weights,\n",
        "                        callbacks=[EarlyStopping(patience=5)])\n",
        "\n",
        "    # Evaluate the model on the test set\n",
        "    loss, accuracy = model.evaluate(X_test, y_test)\n",
        "    print(\"Test Accuracy:\", accuracy)\n",
        "\n",
        "    cnn_predictions = (model.predict(X_test) > 0.5).astype(\"int32\")\n",
        "\n",
        "    # Print CNN metrics\n",
        "    print(\"\\nConvolutional Neural Network Metrics:\")\n",
        "    print(\"Accuracy:\", metrics.accuracy_score(y_test, cnn_predictions))\n",
        "    print(\"Precision:\", metrics.precision_score(y_test, cnn_predictions))\n",
        "    print(\"Recall:\", metrics.recall_score(y_test, cnn_predictions))\n",
        "    print(\"F1 Score:\", metrics.f1_score(y_test, cnn_predictions))"
      ],
      "metadata": {
        "colab": {
          "base_uri": "https://localhost:8080/"
        },
        "id": "RTC2qVTg_r46",
        "outputId": "652270e8-f0d5-4b09-837a-2a5fa50cff24"
      },
      "execution_count": 52,
      "outputs": [
        {
          "output_type": "stream",
          "name": "stdout",
          "text": [
            "Epoch 1/30\n",
            "50/50 [==============================] - 7s 61ms/step - loss: 0.9759 - accuracy: 0.4969 - val_loss: 0.7499 - val_accuracy: 0.5025\n",
            "Epoch 2/30\n",
            "50/50 [==============================] - 3s 53ms/step - loss: 0.9599 - accuracy: 0.4994 - val_loss: 0.7338 - val_accuracy: 0.5025\n",
            "Epoch 3/30\n",
            "50/50 [==============================] - 4s 80ms/step - loss: 0.9616 - accuracy: 0.4994 - val_loss: 0.7944 - val_accuracy: 0.5025\n",
            "Epoch 4/30\n",
            "50/50 [==============================] - 3s 52ms/step - loss: 0.9586 - accuracy: 0.4994 - val_loss: 0.8206 - val_accuracy: 0.5025\n",
            "Epoch 5/30\n",
            "50/50 [==============================] - 3s 51ms/step - loss: 0.9614 - accuracy: 0.4994 - val_loss: 0.7653 - val_accuracy: 0.5025\n",
            "Epoch 6/30\n",
            "50/50 [==============================] - 4s 78ms/step - loss: 0.9568 - accuracy: 0.4994 - val_loss: 0.7432 - val_accuracy: 0.5025\n",
            "Epoch 7/30\n",
            "50/50 [==============================] - 3s 53ms/step - loss: 0.9600 - accuracy: 0.4994 - val_loss: 0.7491 - val_accuracy: 0.5025\n",
            "13/13 [==============================] - 0s 6ms/step - loss: 0.7491 - accuracy: 0.5025\n",
            "Test Accuracy: 0.5024999976158142\n",
            "13/13 [==============================] - 0s 5ms/step\n",
            "\n",
            "Convolutional Neural Network Metrics:\n",
            "Accuracy: 0.5025\n",
            "Precision: 0.5025\n",
            "Recall: 1.0\n",
            "F1 Score: 0.6688851913477537\n"
          ]
        }
      ]
    },
    {
      "cell_type": "code",
      "source": [
        "import os\n",
        "import numpy as np\n",
        "import cv2\n",
        "from skimage.feature import local_binary_pattern\n",
        "from sklearn.model_selection import train_test_split\n",
        "from sklearn import metrics\n",
        "from tensorflow.keras import layers, models, optimizers\n",
        "from tensorflow.keras.applications import VGG16\n",
        "from tensorflow.keras.preprocessing.image import ImageDataGenerator\n",
        "from tensorflow.keras.callbacks import EarlyStopping"
      ],
      "metadata": {
        "id": "geeNZ8rx_s10"
      },
      "execution_count": 53,
      "outputs": []
    },
    {
      "cell_type": "code",
      "source": [
        "# Function to read and preprocess images\n",
        "def read_and_preprocess_images(dataset_path):\n",
        "    images = []\n",
        "    labels = []\n",
        "    for category in [\"cover\", \"stego\"]:\n",
        "        category_path = os.path.join(dataset_path, category)\n",
        "        for filename in os.listdir(category_path):\n",
        "            if filename.endswith(\".pgm\"):\n",
        "                img = cv2.imread(os.path.join(category_path, filename), cv2.IMREAD_GRAYSCALE)\n",
        "                img = cv2.resize(img, (128, 128))  # Resize image if needed\n",
        "\n",
        "                # Apply histogram equalization\n",
        "                img = cv2.equalizeHist(img)\n",
        "\n",
        "                # Apply Local Binary Pattern\n",
        "                lbp = local_binary_pattern(img, P=8, R=1, method='uniform')\n",
        "                img = np.array(lbp, dtype=np.uint8)\n",
        "\n",
        "                images.append(img)\n",
        "                labels.append(1 if category == \"stego\" else 0)\n",
        "\n",
        "    return np.array(images), np.array(labels)"
      ],
      "metadata": {
        "id": "gdOewWFpBiss"
      },
      "execution_count": 54,
      "outputs": []
    },
    {
      "cell_type": "code",
      "source": [
        "# Load and preprocess dataset\n",
        "dataset_path = \"/content/drive/MyDrive/S uniward 0.4bpp\"\n",
        "X, y = read_and_preprocess_images(dataset_path)"
      ],
      "metadata": {
        "id": "5qZvw8rsBllc"
      },
      "execution_count": 55,
      "outputs": []
    },
    {
      "cell_type": "code",
      "source": [
        "\n",
        "# Check if the dataset is not empty\n",
        "if len(X) == 0:\n",
        "    print(\"Error: No images found in the specified folders.\")\n",
        "else:\n",
        "    # Split the dataset into training and testing sets\n",
        "    X_train, X_test, y_train, y_test = train_test_split(X, y, test_size=0.2, random_state=42)\n",
        "\n",
        "    # Reshape for CNN\n",
        "    X_train = X_train.reshape(-1, 128, 128, 1)\n",
        "    X_test = X_test.reshape(-1, 128, 128, 1)\n",
        "\n",
        "    # Normalize pixel values\n",
        "    X_train = X_train / 255.0\n",
        "    X_test = X_test / 255.0\n",
        "\n",
        "    # Use binary crossentropy as the loss function for binary classification\n",
        "    y_train = np.array(y_train)\n",
        "    y_test = np.array(y_test)\n",
        "\n",
        "    # Data Augmentation\n",
        "    datagen = ImageDataGenerator(rotation_range=20, width_shift_range=0.2, height_shift_range=0.2, horizontal_flip=True)\n",
        "\n",
        "    # VGG16 as a feature extractor\n",
        "    base_model = VGG16(weights='imagenet', include_top=False, input_shape=(128, 128, 3))\n",
        "    base_model.trainable = False\n",
        "\n",
        "    model = models.Sequential([\n",
        "        layers.Conv2D(3, (3, 3), input_shape=(128, 128, 1)),\n",
        "        layers.Conv2D(64, (3, 3), activation='relu', padding='same', trainable=False),\n",
        "        layers.Conv2D(64, (3, 3), activation='relu', padding='same', trainable=False),\n",
        "        layers.MaxPooling2D(pool_size=(2, 2)),\n",
        "        layers.Flatten(),\n",
        "        layers.Dense(256, activation='relu'),\n",
        "        layers.Dropout(0.5),\n",
        "        layers.Dense(1, activation='sigmoid')\n",
        "    ])\n",
        "\n",
        "    model.compile(optimizer=optimizers.Adam(learning_rate=0.0001),\n",
        "                  loss='binary_crossentropy',\n",
        "                  metrics=['accuracy'])\n",
        "\n",
        "    # Train the model with data augmentation\n",
        "    history = model.fit(datagen.flow(X_train, y_train, batch_size=32),\n",
        "                        epochs=30,\n",
        "                        validation_data=(X_test, y_test),\n",
        "                        callbacks=[EarlyStopping(patience=5)])\n",
        "\n",
        "    # Evaluate the model on the test set\n",
        "    loss, accuracy = model.evaluate(X_test, y_test)\n",
        "    print(\"Test Accuracy:\", accuracy)\n",
        "\n",
        "    cnn_predictions = (model.predict(X_test) > 0.5).astype(\"int32\")\n",
        "\n",
        "    # Print CNN metrics\n",
        "    print(\"\\nConvolutional Neural Network Metrics:\")\n",
        "    print(\"Accuracy:\", metrics.accuracy_score(y_test, cnn_predictions))\n",
        "    print(\"Precision:\", metrics.precision_score(y_test, cnn_predictions))\n",
        "    print(\"Recall:\", metrics.recall_score(y_test, cnn_predictions))\n",
        "    print(\"F1 Score:\", metrics.f1_score(y_test, cnn_predictions))"
      ],
      "metadata": {
        "colab": {
          "base_uri": "https://localhost:8080/"
        },
        "id": "g3qNHOW9Buuo",
        "outputId": "40706218-5f23-4e14-c892-95a6c0de526c"
      },
      "execution_count": 56,
      "outputs": [
        {
          "output_type": "stream",
          "name": "stdout",
          "text": [
            "Downloading data from https://storage.googleapis.com/tensorflow/keras-applications/vgg16/vgg16_weights_tf_dim_ordering_tf_kernels_notop.h5\n",
            "58889256/58889256 [==============================] - 1s 0us/step\n",
            "Epoch 1/30\n",
            "50/50 [==============================] - 7s 84ms/step - loss: 0.6987 - accuracy: 0.4981 - val_loss: 0.6979 - val_accuracy: 0.5025\n",
            "Epoch 2/30\n",
            "50/50 [==============================] - 3s 66ms/step - loss: 0.6984 - accuracy: 0.5088 - val_loss: 0.6937 - val_accuracy: 0.5025\n",
            "Epoch 3/30\n",
            "50/50 [==============================] - 4s 85ms/step - loss: 0.6978 - accuracy: 0.4963 - val_loss: 0.6934 - val_accuracy: 0.4975\n",
            "Epoch 4/30\n",
            "50/50 [==============================] - 3s 66ms/step - loss: 0.6963 - accuracy: 0.4919 - val_loss: 0.6932 - val_accuracy: 0.5025\n",
            "Epoch 5/30\n",
            "50/50 [==============================] - 3s 64ms/step - loss: 0.6950 - accuracy: 0.5175 - val_loss: 0.6932 - val_accuracy: 0.4750\n",
            "Epoch 6/30\n",
            "50/50 [==============================] - 4s 77ms/step - loss: 0.6959 - accuracy: 0.4988 - val_loss: 0.6938 - val_accuracy: 0.4975\n",
            "Epoch 7/30\n",
            "50/50 [==============================] - 3s 66ms/step - loss: 0.6937 - accuracy: 0.4800 - val_loss: 0.6933 - val_accuracy: 0.4950\n",
            "Epoch 8/30\n",
            "50/50 [==============================] - 3s 66ms/step - loss: 0.6940 - accuracy: 0.4825 - val_loss: 0.6933 - val_accuracy: 0.4975\n",
            "Epoch 9/30\n",
            "50/50 [==============================] - 4s 71ms/step - loss: 0.6936 - accuracy: 0.4950 - val_loss: 0.6933 - val_accuracy: 0.4975\n",
            "13/13 [==============================] - 0s 14ms/step - loss: 0.6933 - accuracy: 0.4975\n",
            "Test Accuracy: 0.4975000023841858\n",
            "13/13 [==============================] - 0s 12ms/step\n",
            "\n",
            "Convolutional Neural Network Metrics:\n",
            "Accuracy: 0.4975\n",
            "Precision: 0.5\n",
            "Recall: 0.004975124378109453\n",
            "F1 Score: 0.009852216748768473\n"
          ]
        }
      ]
    },
    {
      "cell_type": "code",
      "source": [
        "import os\n",
        "import numpy as np\n",
        "import cv2\n",
        "from skimage.feature import local_binary_pattern\n",
        "from sklearn.model_selection import train_test_split\n",
        "from sklearn import metrics\n",
        "from tensorflow.keras import layers, models, optimizers\n",
        "from tensorflow.keras.preprocessing.image import ImageDataGenerator\n",
        "from tensorflow.keras.callbacks import EarlyStopping"
      ],
      "metadata": {
        "id": "02HivbEfCTZS"
      },
      "execution_count": 57,
      "outputs": []
    },
    {
      "cell_type": "code",
      "source": [
        "# Function to read and preprocess images\n",
        "def read_and_preprocess_images(dataset_path):\n",
        "    images = []\n",
        "    labels = []\n",
        "    for category in [\"cover\", \"stego\"]:\n",
        "        category_path = os.path.join(dataset_path, category)\n",
        "        for filename in os.listdir(category_path):\n",
        "            if filename.endswith(\".pgm\"):\n",
        "                img = cv2.imread(os.path.join(category_path, filename), cv2.IMREAD_GRAYSCALE)\n",
        "                img = cv2.resize(img, (128, 128))  # Resize image if needed\n",
        "\n",
        "                # Apply histogram equalization\n",
        "                img = cv2.equalizeHist(img)\n",
        "\n",
        "                # Apply Local Binary Pattern\n",
        "                lbp = local_binary_pattern(img, P=8, R=1, method='uniform')\n",
        "                img = np.array(lbp, dtype=np.uint8)\n",
        "\n",
        "                images.append(img)\n",
        "                labels.append(1 if category == \"stego\" else 0)\n",
        "\n",
        "    return np.array(images), np.array(labels)"
      ],
      "metadata": {
        "id": "Fe5y1b5qCUMT"
      },
      "execution_count": 58,
      "outputs": []
    },
    {
      "cell_type": "code",
      "source": [
        "# Load and preprocess dataset\n",
        "dataset_path = \"/content/drive/MyDrive/S uniward 0.4bpp\"\n",
        "X, y = read_and_preprocess_images(dataset_path)"
      ],
      "metadata": {
        "id": "WhF5170uCXRL"
      },
      "execution_count": 59,
      "outputs": []
    },
    {
      "cell_type": "code",
      "source": [
        "# Check if the dataset is not empty\n",
        "if len(X) == 0:\n",
        "    print(\"Error: No images found in the specified folders.\")\n",
        "else:\n",
        "    # Split the dataset into training and testing sets\n",
        "    X_train, X_test, y_train, y_test = train_test_split(X, y, test_size=0.2, random_state=42)\n",
        "\n",
        "    # Reshape for CNN\n",
        "    X_train = X_train.reshape(-1, 128, 128, 1)\n",
        "    X_test = X_test.reshape(-1, 128, 128, 1)\n",
        "\n",
        "    # Normalize pixel values\n",
        "    X_train = X_train / 255.0\n",
        "    X_test = X_test / 255.0\n",
        "\n",
        "    # Use binary crossentropy as the loss function for binary classification\n",
        "    y_train = np.array(y_train)\n",
        "    y_test = np.array(y_test)\n",
        "\n",
        "    # Data Augmentation\n",
        "    datagen = ImageDataGenerator(rotation_range=20, width_shift_range=0.2, height_shift_range=0.2, horizontal_flip=True)\n",
        "\n",
        "    # Define a simple residual block\n",
        "    def residual_block(x, filters, kernel_size=3, stride=1):\n",
        "        res = x\n",
        "        x = layers.Conv2D(filters, kernel_size=kernel_size, strides=stride, padding='same', activation='relu')(x)\n",
        "        x = layers.Conv2D(filters, kernel_size=kernel_size, strides=stride, padding='same')(x)\n",
        "        x = layers.Add()([x, res])  # Add the input to the output (residual connection)\n",
        "        x = layers.Activation('relu')(x)\n",
        "        return x\n",
        "\n",
        "    # Define the model using residual blocks\n",
        "    model = models.Sequential()\n",
        "    model.add(layers.Conv2D(64, kernel_size=7, strides=2, input_shape=(128, 128, 1), padding='same', activation='relu'))\n",
        "    model.add(layers.MaxPooling2D((2, 2)))\n",
        "    model.add(layers.Conv2D(64, kernel_size=3, padding='same', activation='relu'))\n",
        "    model.add(residual_block(model.output, 64))\n",
        "    model.add(residual_block(model.output, 64))\n",
        "    model.add(layers.MaxPooling2D((2, 2)))\n",
        "    model.add(layers.Conv2D(128, kernel_size=3, padding='same', activation='relu'))\n",
        "    model.add(residual_block(model.output, 128, stride=2))\n",
        "    model.add(residual_block(model.output, 128))\n",
        "    model.add(layers.MaxPooling2D((2, 2)))\n",
        "    model.add(layers.Conv2D(256, kernel_size=3, padding='same', activation='relu'))\n",
        "    model.add(residual_block(model.output, 256, stride=2))\n",
        "    model.add(residual_block(model.output, 256))\n",
        "    model.add(layers.GlobalAveragePooling2D())\n",
        "    model.add(layers.Dense(1, activation='sigmoid'))\n",
        "\n",
        "    model.compile(optimizer=optimizers.Adam(learning_rate=0.0001),\n",
        "                  loss='binary_crossentropy',\n",
        "                  metrics=['accuracy'])\n",
        "\n",
        "    # Train the model with data augmentation\n",
        "    history = model.fit(datagen.flow(X_train, y_train, batch_size=32),\n",
        "                        epochs=30,\n",
        "                        validation_data=(X_test, y_test),\n",
        "                        callbacks=[EarlyStopping(patience=5)])\n",
        "\n",
        "    # Evaluate the model on the test set\n",
        "    loss, accuracy = model.evaluate(X_test, y_test)\n",
        "    print(\"Test Accuracy:\", accuracy)\n",
        "\n",
        "    cnn_predictions = (model.predict(X_test) > 0.5).astype(\"int32\")\n",
        "\n",
        "    # Print CNN metrics\n",
        "    print(\"\\nConvolutional Neural Network Metrics:\")\n",
        "    print(\"Accuracy:\", metrics.accuracy_score(y_test, cnn_predictions))\n",
        "    print(\"Precision:\", metrics.precision_score(y_test, cnn_predictions))\n",
        "    print(\"Recall:\", metrics.recall_score(y_test, cnn_predictions))\n",
        "    print(\"F1 Score:\", metrics.f1_score(y_test, cnn_predictions))"
      ],
      "metadata": {
        "colab": {
          "base_uri": "https://localhost:8080/",
          "height": 425
        },
        "id": "uJDBA503DrjT",
        "outputId": "e637f0df-df7f-4447-f706-6e9c4735e37b"
      },
      "execution_count": 61,
      "outputs": [
        {
          "output_type": "error",
          "ename": "TypeError",
          "evalue": "The added layer must be an instance of class Layer. Received: layer=KerasTensor(type_spec=TensorSpec(shape=(None, 32, 32, 64), dtype=tf.float32, name=None), name='activation_1/Relu:0', description=\"created by layer 'activation_1'\") of type <class 'keras.src.engine.keras_tensor.KerasTensor'>.",
          "traceback": [
            "\u001b[0;31m---------------------------------------------------------------------------\u001b[0m",
            "\u001b[0;31mTypeError\u001b[0m                                 Traceback (most recent call last)",
            "\u001b[0;32m<ipython-input-61-c68dfb007e14>\u001b[0m in \u001b[0;36m<cell line: 2>\u001b[0;34m()\u001b[0m\n\u001b[1;32m     35\u001b[0m     \u001b[0mmodel\u001b[0m\u001b[0;34m.\u001b[0m\u001b[0madd\u001b[0m\u001b[0;34m(\u001b[0m\u001b[0mlayers\u001b[0m\u001b[0;34m.\u001b[0m\u001b[0mMaxPooling2D\u001b[0m\u001b[0;34m(\u001b[0m\u001b[0;34m(\u001b[0m\u001b[0;36m2\u001b[0m\u001b[0;34m,\u001b[0m \u001b[0;36m2\u001b[0m\u001b[0;34m)\u001b[0m\u001b[0;34m)\u001b[0m\u001b[0;34m)\u001b[0m\u001b[0;34m\u001b[0m\u001b[0;34m\u001b[0m\u001b[0m\n\u001b[1;32m     36\u001b[0m     \u001b[0mmodel\u001b[0m\u001b[0;34m.\u001b[0m\u001b[0madd\u001b[0m\u001b[0;34m(\u001b[0m\u001b[0mlayers\u001b[0m\u001b[0;34m.\u001b[0m\u001b[0mConv2D\u001b[0m\u001b[0;34m(\u001b[0m\u001b[0;36m64\u001b[0m\u001b[0;34m,\u001b[0m \u001b[0mkernel_size\u001b[0m\u001b[0;34m=\u001b[0m\u001b[0;36m3\u001b[0m\u001b[0;34m,\u001b[0m \u001b[0mpadding\u001b[0m\u001b[0;34m=\u001b[0m\u001b[0;34m'same'\u001b[0m\u001b[0;34m,\u001b[0m \u001b[0mactivation\u001b[0m\u001b[0;34m=\u001b[0m\u001b[0;34m'relu'\u001b[0m\u001b[0;34m)\u001b[0m\u001b[0;34m)\u001b[0m\u001b[0;34m\u001b[0m\u001b[0;34m\u001b[0m\u001b[0m\n\u001b[0;32m---> 37\u001b[0;31m     \u001b[0mmodel\u001b[0m\u001b[0;34m.\u001b[0m\u001b[0madd\u001b[0m\u001b[0;34m(\u001b[0m\u001b[0mresidual_block\u001b[0m\u001b[0;34m(\u001b[0m\u001b[0mmodel\u001b[0m\u001b[0;34m.\u001b[0m\u001b[0moutput\u001b[0m\u001b[0;34m,\u001b[0m \u001b[0;36m64\u001b[0m\u001b[0;34m)\u001b[0m\u001b[0;34m)\u001b[0m\u001b[0;34m\u001b[0m\u001b[0;34m\u001b[0m\u001b[0m\n\u001b[0m\u001b[1;32m     38\u001b[0m     \u001b[0mmodel\u001b[0m\u001b[0;34m.\u001b[0m\u001b[0madd\u001b[0m\u001b[0;34m(\u001b[0m\u001b[0mresidual_block\u001b[0m\u001b[0;34m(\u001b[0m\u001b[0mmodel\u001b[0m\u001b[0;34m.\u001b[0m\u001b[0moutput\u001b[0m\u001b[0;34m,\u001b[0m \u001b[0;36m64\u001b[0m\u001b[0;34m)\u001b[0m\u001b[0;34m)\u001b[0m\u001b[0;34m\u001b[0m\u001b[0;34m\u001b[0m\u001b[0m\n\u001b[1;32m     39\u001b[0m     \u001b[0mmodel\u001b[0m\u001b[0;34m.\u001b[0m\u001b[0madd\u001b[0m\u001b[0;34m(\u001b[0m\u001b[0mlayers\u001b[0m\u001b[0;34m.\u001b[0m\u001b[0mMaxPooling2D\u001b[0m\u001b[0;34m(\u001b[0m\u001b[0;34m(\u001b[0m\u001b[0;36m2\u001b[0m\u001b[0;34m,\u001b[0m \u001b[0;36m2\u001b[0m\u001b[0;34m)\u001b[0m\u001b[0;34m)\u001b[0m\u001b[0;34m)\u001b[0m\u001b[0;34m\u001b[0m\u001b[0;34m\u001b[0m\u001b[0m\n",
            "\u001b[0;32m/usr/local/lib/python3.10/dist-packages/tensorflow/python/trackable/base.py\u001b[0m in \u001b[0;36m_method_wrapper\u001b[0;34m(self, *args, **kwargs)\u001b[0m\n\u001b[1;32m    202\u001b[0m     \u001b[0mself\u001b[0m\u001b[0;34m.\u001b[0m\u001b[0m_self_setattr_tracking\u001b[0m \u001b[0;34m=\u001b[0m \u001b[0;32mFalse\u001b[0m  \u001b[0;31m# pylint: disable=protected-access\u001b[0m\u001b[0;34m\u001b[0m\u001b[0;34m\u001b[0m\u001b[0m\n\u001b[1;32m    203\u001b[0m     \u001b[0;32mtry\u001b[0m\u001b[0;34m:\u001b[0m\u001b[0;34m\u001b[0m\u001b[0;34m\u001b[0m\u001b[0m\n\u001b[0;32m--> 204\u001b[0;31m       \u001b[0mresult\u001b[0m \u001b[0;34m=\u001b[0m \u001b[0mmethod\u001b[0m\u001b[0;34m(\u001b[0m\u001b[0mself\u001b[0m\u001b[0;34m,\u001b[0m \u001b[0;34m*\u001b[0m\u001b[0margs\u001b[0m\u001b[0;34m,\u001b[0m \u001b[0;34m**\u001b[0m\u001b[0mkwargs\u001b[0m\u001b[0;34m)\u001b[0m\u001b[0;34m\u001b[0m\u001b[0;34m\u001b[0m\u001b[0m\n\u001b[0m\u001b[1;32m    205\u001b[0m     \u001b[0;32mfinally\u001b[0m\u001b[0;34m:\u001b[0m\u001b[0;34m\u001b[0m\u001b[0;34m\u001b[0m\u001b[0m\n\u001b[1;32m    206\u001b[0m       \u001b[0mself\u001b[0m\u001b[0;34m.\u001b[0m\u001b[0m_self_setattr_tracking\u001b[0m \u001b[0;34m=\u001b[0m \u001b[0mprevious_value\u001b[0m  \u001b[0;31m# pylint: disable=protected-access\u001b[0m\u001b[0;34m\u001b[0m\u001b[0;34m\u001b[0m\u001b[0m\n",
            "\u001b[0;32m/usr/local/lib/python3.10/dist-packages/keras/src/utils/traceback_utils.py\u001b[0m in \u001b[0;36merror_handler\u001b[0;34m(*args, **kwargs)\u001b[0m\n\u001b[1;32m     68\u001b[0m             \u001b[0;31m# To get the full stack trace, call:\u001b[0m\u001b[0;34m\u001b[0m\u001b[0;34m\u001b[0m\u001b[0m\n\u001b[1;32m     69\u001b[0m             \u001b[0;31m# `tf.debugging.disable_traceback_filtering()`\u001b[0m\u001b[0;34m\u001b[0m\u001b[0;34m\u001b[0m\u001b[0m\n\u001b[0;32m---> 70\u001b[0;31m             \u001b[0;32mraise\u001b[0m \u001b[0me\u001b[0m\u001b[0;34m.\u001b[0m\u001b[0mwith_traceback\u001b[0m\u001b[0;34m(\u001b[0m\u001b[0mfiltered_tb\u001b[0m\u001b[0;34m)\u001b[0m \u001b[0;32mfrom\u001b[0m \u001b[0;32mNone\u001b[0m\u001b[0;34m\u001b[0m\u001b[0;34m\u001b[0m\u001b[0m\n\u001b[0m\u001b[1;32m     71\u001b[0m         \u001b[0;32mfinally\u001b[0m\u001b[0;34m:\u001b[0m\u001b[0;34m\u001b[0m\u001b[0;34m\u001b[0m\u001b[0m\n\u001b[1;32m     72\u001b[0m             \u001b[0;32mdel\u001b[0m \u001b[0mfiltered_tb\u001b[0m\u001b[0;34m\u001b[0m\u001b[0;34m\u001b[0m\u001b[0m\n",
            "\u001b[0;32m/usr/local/lib/python3.10/dist-packages/keras/src/engine/sequential.py\u001b[0m in \u001b[0;36madd\u001b[0;34m(self, layer)\u001b[0m\n\u001b[1;32m    176\u001b[0m                 \u001b[0mlayer\u001b[0m \u001b[0;34m=\u001b[0m \u001b[0mfunctional\u001b[0m\u001b[0;34m.\u001b[0m\u001b[0mModuleWrapper\u001b[0m\u001b[0;34m(\u001b[0m\u001b[0mlayer\u001b[0m\u001b[0;34m)\u001b[0m\u001b[0;34m\u001b[0m\u001b[0;34m\u001b[0m\u001b[0m\n\u001b[1;32m    177\u001b[0m         \u001b[0;32melse\u001b[0m\u001b[0;34m:\u001b[0m\u001b[0;34m\u001b[0m\u001b[0;34m\u001b[0m\u001b[0m\n\u001b[0;32m--> 178\u001b[0;31m             raise TypeError(\n\u001b[0m\u001b[1;32m    179\u001b[0m                 \u001b[0;34m\"The added layer must be an instance of class Layer. \"\u001b[0m\u001b[0;34m\u001b[0m\u001b[0;34m\u001b[0m\u001b[0m\n\u001b[1;32m    180\u001b[0m                 \u001b[0;34mf\"Received: layer={layer} of type {type(layer)}.\"\u001b[0m\u001b[0;34m\u001b[0m\u001b[0;34m\u001b[0m\u001b[0m\n",
            "\u001b[0;31mTypeError\u001b[0m: The added layer must be an instance of class Layer. Received: layer=KerasTensor(type_spec=TensorSpec(shape=(None, 32, 32, 64), dtype=tf.float32, name=None), name='activation_1/Relu:0', description=\"created by layer 'activation_1'\") of type <class 'keras.src.engine.keras_tensor.KerasTensor'>."
          ]
        }
      ]
    },
    {
      "cell_type": "code",
      "source": [
        "import os\n",
        "import numpy as np\n",
        "import cv2\n",
        "from skimage.feature import local_binary_pattern\n",
        "from sklearn.model_selection import train_test_split\n",
        "from sklearn import metrics\n",
        "from tensorflow.keras import layers, models, optimizers\n",
        "from tensorflow.keras.preprocessing.image import ImageDataGenerator\n",
        "from tensorflow.keras.callbacks import EarlyStopping"
      ],
      "metadata": {
        "id": "Otu6KKH1Dudg"
      },
      "execution_count": 62,
      "outputs": []
    },
    {
      "cell_type": "code",
      "source": [
        "# Function to read and preprocess images\n",
        "def read_and_preprocess_images(dataset_path):\n",
        "    images = []\n",
        "    labels = []\n",
        "    for category in [\"cover\", \"stego\"]:\n",
        "        category_path = os.path.join(dataset_path, category)\n",
        "        for filename in os.listdir(category_path):\n",
        "            if filename.endswith(\".pgm\"):\n",
        "                img = cv2.imread(os.path.join(category_path, filename), cv2.IMREAD_GRAYSCALE)\n",
        "                img = cv2.resize(img, (128, 128))  # Resize image if needed\n",
        "\n",
        "                # Apply histogram equalization\n",
        "                img = cv2.equalizeHist(img)\n",
        "\n",
        "                # Apply Local Binary Pattern\n",
        "                lbp = local_binary_pattern(img, P=8, R=1, method='uniform')\n",
        "                img = np.array(lbp, dtype=np.uint8)\n",
        "\n",
        "                images.append(img)\n",
        "                labels.append(1 if category == \"stego\" else 0)\n",
        "\n",
        "    return np.array(images), np.array(labels)"
      ],
      "metadata": {
        "id": "-Zna09VnDyaQ"
      },
      "execution_count": 63,
      "outputs": []
    },
    {
      "cell_type": "code",
      "source": [
        "# Load and preprocess dataset\n",
        "dataset_path = \"/content/drive/MyDrive/S uniward 0.4bpp\"\n",
        "X, y = read_and_preprocess_images(dataset_path)"
      ],
      "metadata": {
        "id": "CHWp7C5_D1NQ"
      },
      "execution_count": 64,
      "outputs": []
    },
    {
      "cell_type": "code",
      "source": [
        "# Check if the dataset is not empty\n",
        "if len(X) == 0:\n",
        "    print(\"Error: No images found in the specified folders.\")\n",
        "else:\n",
        "    # Split the dataset into training and testing sets\n",
        "    X_train, X_test, y_train, y_test = train_test_split(X, y, test_size=0.2, random_state=42)\n",
        "\n",
        "    # Reshape for CNN\n",
        "    X_train = X_train.reshape(-1, 128, 128, 1)\n",
        "    X_test = X_test.reshape(-1, 128, 128, 1)\n",
        "\n",
        "    # Normalize pixel values\n",
        "    X_train = X_train / 255.0\n",
        "    X_test = X_test / 255.0\n",
        "\n",
        "    # Use binary crossentropy as the loss function for binary classification\n",
        "    y_train = np.array(y_train)\n",
        "    y_test = np.array(y_test)\n",
        "\n",
        "    # Data Augmentation\n",
        "    datagen = ImageDataGenerator(rotation_range=20, width_shift_range=0.2, height_shift_range=0.2, horizontal_flip=True)\n",
        "\n",
        "    # Define a simple residual block\n",
        "    def residual_block(x, filters, kernel_size=3, stride=1):\n",
        "        res = x\n",
        "        x = layers.Conv2D(filters, kernel_size=kernel_size, strides=stride, padding='same', activation='relu')(x)\n",
        "        x = layers.Conv2D(filters, kernel_size=kernel_size, strides=stride, padding='same')(x)\n",
        "        x = layers.Add()([x, res])  # Add the input to the output (residual connection)\n",
        "        x = layers.Activation('relu')(x)\n",
        "        return x\n",
        "\n",
        "    # Define the model using residual blocks\n",
        "    model = models.Sequential()\n",
        "    model.add(layers.Conv2D(64, kernel_size=7, strides=2, input_shape=(128, 128, 1), padding='same', activation='relu'))\n",
        "    model.add(layers.MaxPooling2D((2, 2)))\n",
        "    x = layers.Conv2D(64, kernel_size=3, padding='same', activation='relu')(model.output)\n",
        "    x = residual_block(x, 64)\n",
        "    x = residual_block(x, 64)\n",
        "    model.add(layers.Add()([x, model.output]))  # Skip connection\n",
        "    model.add(layers.MaxPooling2D((2, 2)))\n",
        "    x = layers.Conv2D(128, kernel_size=3, padding='same', activation='relu')(x)\n",
        "    x = residual_block(x, 128, stride=2)\n",
        "    x = residual_block(x, 128)\n",
        "    model.add(layers.Add()([x, layers.Conv2D(128, kernel_size=1, strides=2, padding='valid')(model.layers[-3].output)]))  # Skip connection\n",
        "    model.add(layers.MaxPooling2D((2, 2)))\n",
        "    x = layers.Conv2D(256, kernel_size=3, padding='same', activation='relu')(x)\n",
        "    x = residual_block(x, 256, stride=2)\n",
        "    x = residual_block(x, 256)\n",
        "    model.add(layers.Add()([x, layers.Conv2D(256, kernel_size=1, strides=2, padding='valid')(model.layers[-3].output)]))  # Skip connection\n",
        "    model.add(layers.GlobalAveragePooling2D())\n",
        "    model.add(layers.Dense(1, activation='sigmoid'))\n",
        "\n",
        "    model.compile(optimizer=optimizers.Adam(learning_rate=0.0001),\n",
        "                  loss='binary_crossentropy',\n",
        "                  metrics=['accuracy'])\n",
        "\n",
        "    # Train the model with data augmentation\n",
        "    history = model.fit(datagen.flow(X_train, y_train, batch_size=32),\n",
        "                        epochs=30,\n",
        "                        validation_data=(X_test, y_test),\n",
        "                        callbacks=[EarlyStopping(patience=5)])\n",
        "\n",
        "    # Evaluate the model on the test set\n",
        "    loss, accuracy = model.evaluate(X_test, y_test)\n",
        "    print(\"Test Accuracy:\", accuracy)\n",
        "\n",
        "    cnn_predictions = (model.predict(X_test) > 0.5).astype(\"int32\")\n",
        "\n",
        "    # Print CNN metrics\n",
        "    print(\"\\nConvolutional Neural Network Metrics:\")\n",
        "    print(\"Accuracy:\", metrics.accuracy_score(y_test, cnn_predictions))\n",
        "    print(\"Precision:\", metrics.precision_score(y_test, cnn_predictions))\n",
        "    print(\"Recall:\", metrics.recall_score(y_test, cnn_predictions))\n",
        "    print(\"F1 Score:\", metrics.f1_score(y_test, cnn_predictions))"
      ],
      "metadata": {
        "colab": {
          "base_uri": "https://localhost:8080/",
          "height": 425
        },
        "id": "5TVM9ikKEkQ-",
        "outputId": "1131cfb0-3c55-4d64-aaa4-290748ecc790"
      },
      "execution_count": 66,
      "outputs": [
        {
          "output_type": "error",
          "ename": "TypeError",
          "evalue": "The added layer must be an instance of class Layer. Received: layer=KerasTensor(type_spec=TensorSpec(shape=(None, 32, 32, 64), dtype=tf.float32, name=None), name='add_5/add:0', description=\"created by layer 'add_5'\") of type <class 'keras.src.engine.keras_tensor.KerasTensor'>.",
          "traceback": [
            "\u001b[0;31m---------------------------------------------------------------------------\u001b[0m",
            "\u001b[0;31mTypeError\u001b[0m                                 Traceback (most recent call last)",
            "\u001b[0;32m<ipython-input-66-c6d34005d9e0>\u001b[0m in \u001b[0;36m<cell line: 2>\u001b[0;34m()\u001b[0m\n\u001b[1;32m     37\u001b[0m     \u001b[0mx\u001b[0m \u001b[0;34m=\u001b[0m \u001b[0mresidual_block\u001b[0m\u001b[0;34m(\u001b[0m\u001b[0mx\u001b[0m\u001b[0;34m,\u001b[0m \u001b[0;36m64\u001b[0m\u001b[0;34m)\u001b[0m\u001b[0;34m\u001b[0m\u001b[0;34m\u001b[0m\u001b[0m\n\u001b[1;32m     38\u001b[0m     \u001b[0mx\u001b[0m \u001b[0;34m=\u001b[0m \u001b[0mresidual_block\u001b[0m\u001b[0;34m(\u001b[0m\u001b[0mx\u001b[0m\u001b[0;34m,\u001b[0m \u001b[0;36m64\u001b[0m\u001b[0;34m)\u001b[0m\u001b[0;34m\u001b[0m\u001b[0;34m\u001b[0m\u001b[0m\n\u001b[0;32m---> 39\u001b[0;31m     \u001b[0mmodel\u001b[0m\u001b[0;34m.\u001b[0m\u001b[0madd\u001b[0m\u001b[0;34m(\u001b[0m\u001b[0mlayers\u001b[0m\u001b[0;34m.\u001b[0m\u001b[0mAdd\u001b[0m\u001b[0;34m(\u001b[0m\u001b[0;34m)\u001b[0m\u001b[0;34m(\u001b[0m\u001b[0;34m[\u001b[0m\u001b[0mx\u001b[0m\u001b[0;34m,\u001b[0m \u001b[0mmodel\u001b[0m\u001b[0;34m.\u001b[0m\u001b[0moutput\u001b[0m\u001b[0;34m]\u001b[0m\u001b[0;34m)\u001b[0m\u001b[0;34m)\u001b[0m  \u001b[0;31m# Skip connection\u001b[0m\u001b[0;34m\u001b[0m\u001b[0;34m\u001b[0m\u001b[0m\n\u001b[0m\u001b[1;32m     40\u001b[0m     \u001b[0mmodel\u001b[0m\u001b[0;34m.\u001b[0m\u001b[0madd\u001b[0m\u001b[0;34m(\u001b[0m\u001b[0mlayers\u001b[0m\u001b[0;34m.\u001b[0m\u001b[0mMaxPooling2D\u001b[0m\u001b[0;34m(\u001b[0m\u001b[0;34m(\u001b[0m\u001b[0;36m2\u001b[0m\u001b[0;34m,\u001b[0m \u001b[0;36m2\u001b[0m\u001b[0;34m)\u001b[0m\u001b[0;34m)\u001b[0m\u001b[0;34m)\u001b[0m\u001b[0;34m\u001b[0m\u001b[0;34m\u001b[0m\u001b[0m\n\u001b[1;32m     41\u001b[0m     \u001b[0mx\u001b[0m \u001b[0;34m=\u001b[0m \u001b[0mlayers\u001b[0m\u001b[0;34m.\u001b[0m\u001b[0mConv2D\u001b[0m\u001b[0;34m(\u001b[0m\u001b[0;36m128\u001b[0m\u001b[0;34m,\u001b[0m \u001b[0mkernel_size\u001b[0m\u001b[0;34m=\u001b[0m\u001b[0;36m3\u001b[0m\u001b[0;34m,\u001b[0m \u001b[0mpadding\u001b[0m\u001b[0;34m=\u001b[0m\u001b[0;34m'same'\u001b[0m\u001b[0;34m,\u001b[0m \u001b[0mactivation\u001b[0m\u001b[0;34m=\u001b[0m\u001b[0;34m'relu'\u001b[0m\u001b[0;34m)\u001b[0m\u001b[0;34m(\u001b[0m\u001b[0mx\u001b[0m\u001b[0;34m)\u001b[0m\u001b[0;34m\u001b[0m\u001b[0;34m\u001b[0m\u001b[0m\n",
            "\u001b[0;32m/usr/local/lib/python3.10/dist-packages/tensorflow/python/trackable/base.py\u001b[0m in \u001b[0;36m_method_wrapper\u001b[0;34m(self, *args, **kwargs)\u001b[0m\n\u001b[1;32m    202\u001b[0m     \u001b[0mself\u001b[0m\u001b[0;34m.\u001b[0m\u001b[0m_self_setattr_tracking\u001b[0m \u001b[0;34m=\u001b[0m \u001b[0;32mFalse\u001b[0m  \u001b[0;31m# pylint: disable=protected-access\u001b[0m\u001b[0;34m\u001b[0m\u001b[0;34m\u001b[0m\u001b[0m\n\u001b[1;32m    203\u001b[0m     \u001b[0;32mtry\u001b[0m\u001b[0;34m:\u001b[0m\u001b[0;34m\u001b[0m\u001b[0;34m\u001b[0m\u001b[0m\n\u001b[0;32m--> 204\u001b[0;31m       \u001b[0mresult\u001b[0m \u001b[0;34m=\u001b[0m \u001b[0mmethod\u001b[0m\u001b[0;34m(\u001b[0m\u001b[0mself\u001b[0m\u001b[0;34m,\u001b[0m \u001b[0;34m*\u001b[0m\u001b[0margs\u001b[0m\u001b[0;34m,\u001b[0m \u001b[0;34m**\u001b[0m\u001b[0mkwargs\u001b[0m\u001b[0;34m)\u001b[0m\u001b[0;34m\u001b[0m\u001b[0;34m\u001b[0m\u001b[0m\n\u001b[0m\u001b[1;32m    205\u001b[0m     \u001b[0;32mfinally\u001b[0m\u001b[0;34m:\u001b[0m\u001b[0;34m\u001b[0m\u001b[0;34m\u001b[0m\u001b[0m\n\u001b[1;32m    206\u001b[0m       \u001b[0mself\u001b[0m\u001b[0;34m.\u001b[0m\u001b[0m_self_setattr_tracking\u001b[0m \u001b[0;34m=\u001b[0m \u001b[0mprevious_value\u001b[0m  \u001b[0;31m# pylint: disable=protected-access\u001b[0m\u001b[0;34m\u001b[0m\u001b[0;34m\u001b[0m\u001b[0m\n",
            "\u001b[0;32m/usr/local/lib/python3.10/dist-packages/keras/src/utils/traceback_utils.py\u001b[0m in \u001b[0;36merror_handler\u001b[0;34m(*args, **kwargs)\u001b[0m\n\u001b[1;32m     68\u001b[0m             \u001b[0;31m# To get the full stack trace, call:\u001b[0m\u001b[0;34m\u001b[0m\u001b[0;34m\u001b[0m\u001b[0m\n\u001b[1;32m     69\u001b[0m             \u001b[0;31m# `tf.debugging.disable_traceback_filtering()`\u001b[0m\u001b[0;34m\u001b[0m\u001b[0;34m\u001b[0m\u001b[0m\n\u001b[0;32m---> 70\u001b[0;31m             \u001b[0;32mraise\u001b[0m \u001b[0me\u001b[0m\u001b[0;34m.\u001b[0m\u001b[0mwith_traceback\u001b[0m\u001b[0;34m(\u001b[0m\u001b[0mfiltered_tb\u001b[0m\u001b[0;34m)\u001b[0m \u001b[0;32mfrom\u001b[0m \u001b[0;32mNone\u001b[0m\u001b[0;34m\u001b[0m\u001b[0;34m\u001b[0m\u001b[0m\n\u001b[0m\u001b[1;32m     71\u001b[0m         \u001b[0;32mfinally\u001b[0m\u001b[0;34m:\u001b[0m\u001b[0;34m\u001b[0m\u001b[0;34m\u001b[0m\u001b[0m\n\u001b[1;32m     72\u001b[0m             \u001b[0;32mdel\u001b[0m \u001b[0mfiltered_tb\u001b[0m\u001b[0;34m\u001b[0m\u001b[0;34m\u001b[0m\u001b[0m\n",
            "\u001b[0;32m/usr/local/lib/python3.10/dist-packages/keras/src/engine/sequential.py\u001b[0m in \u001b[0;36madd\u001b[0;34m(self, layer)\u001b[0m\n\u001b[1;32m    176\u001b[0m                 \u001b[0mlayer\u001b[0m \u001b[0;34m=\u001b[0m \u001b[0mfunctional\u001b[0m\u001b[0;34m.\u001b[0m\u001b[0mModuleWrapper\u001b[0m\u001b[0;34m(\u001b[0m\u001b[0mlayer\u001b[0m\u001b[0;34m)\u001b[0m\u001b[0;34m\u001b[0m\u001b[0;34m\u001b[0m\u001b[0m\n\u001b[1;32m    177\u001b[0m         \u001b[0;32melse\u001b[0m\u001b[0;34m:\u001b[0m\u001b[0;34m\u001b[0m\u001b[0;34m\u001b[0m\u001b[0m\n\u001b[0;32m--> 178\u001b[0;31m             raise TypeError(\n\u001b[0m\u001b[1;32m    179\u001b[0m                 \u001b[0;34m\"The added layer must be an instance of class Layer. \"\u001b[0m\u001b[0;34m\u001b[0m\u001b[0;34m\u001b[0m\u001b[0m\n\u001b[1;32m    180\u001b[0m                 \u001b[0;34mf\"Received: layer={layer} of type {type(layer)}.\"\u001b[0m\u001b[0;34m\u001b[0m\u001b[0;34m\u001b[0m\u001b[0m\n",
            "\u001b[0;31mTypeError\u001b[0m: The added layer must be an instance of class Layer. Received: layer=KerasTensor(type_spec=TensorSpec(shape=(None, 32, 32, 64), dtype=tf.float32, name=None), name='add_5/add:0', description=\"created by layer 'add_5'\") of type <class 'keras.src.engine.keras_tensor.KerasTensor'>."
          ]
        }
      ]
    },
    {
      "cell_type": "code",
      "source": [
        "# Check if the dataset is not empty\n",
        "if len(X) == 0:\n",
        "    print(\"Error: No images found in the specified folders.\")\n",
        "else:\n",
        "    # Split the dataset into training and testing sets\n",
        "    X_train, X_test, y_train, y_test = train_test_split(X, y, test_size=0.2, random_state=42)\n",
        "\n",
        "    # Reshape for CNN\n",
        "    X_train = X_train.reshape(-1, 128, 128, 1)\n",
        "    X_test = X_test.reshape(-1, 128, 128, 1)\n",
        "\n",
        "    # Normalize pixel values\n",
        "    X_train = X_train / 255.0\n",
        "    X_test = X_test / 255.0\n",
        "\n",
        "    # Use binary crossentropy as the loss function for binary classification\n",
        "    y_train = np.array(y_train)\n",
        "    y_test = np.array(y_test)\n",
        "\n",
        "    # Data Augmentation\n",
        "    datagen = ImageDataGenerator(rotation_range=20, width_shift_range=0.2, height_shift_range=0.2, horizontal_flip=True)\n",
        "\n",
        "    # Define a simple residual block\n",
        "    def residual_block(x, filters, kernel_size=3, stride=1):\n",
        "        res = x\n",
        "        x = layers.Conv2D(filters, kernel_size=kernel_size, strides=stride, padding='same', activation='relu')(x)\n",
        "        x = layers.Conv2D(filters, kernel_size=kernel_size, strides=stride, padding='same')(x)\n",
        "        x = layers.Add()([x, res])  # Add the input to the output (residual connection)\n",
        "        x = layers.Activation('relu')(x)\n",
        "        return x\n",
        "\n",
        "    # Define the model using residual blocks\n",
        "    model = models.Sequential()\n",
        "    model.add(layers.Conv2D(64, kernel_size=7, strides=2, input_shape=(128, 128, 1), padding='same', activation='relu'))\n",
        "    model.add(layers.MaxPooling2D((2, 2)))\n",
        "    x = layers.Conv2D(64, kernel_size=3, padding='same', activation='relu')(model.output)\n",
        "    x = residual_block(x, 64)\n",
        "    x = residual_block(x, 64)\n",
        "    model.add(layers.Add()([x, model.layers[-2].output]))  # Skip connection\n",
        "    model.add(layers.MaxPooling2D((2, 2)))\n",
        "    x = layers.Conv2D(128, kernel_size=3, padding='same', activation='relu')(x)\n",
        "    x = residual_block(x, 128, stride=2)\n",
        "    x = residual_block(x, 128)\n",
        "    model.add(layers.Add()([x, layers.Conv2D(128, kernel_size=1, strides=2, padding='valid')(model.layers[-2].output)]))  # Skip connection\n",
        "    model.add(layers.MaxPooling2D((2, 2)))\n",
        "    x = layers.Conv2D(256, kernel_size=3, padding='same', activation='relu')(x)\n",
        "    x = residual_block(x, 256, stride=2)\n",
        "    x = residual_block(x, 256)\n",
        "    model.add(layers.Add()([x, layers.Conv2D(256, kernel_size=1, strides=2, padding='valid')(model.layers[-2].output)]))  # Skip connection\n",
        "    model.add(layers.GlobalAveragePooling2D())\n",
        "    model.add(layers.Dense(1, activation='sigmoid'))\n",
        "\n",
        "    model.compile(optimizer=optimizers.Adam(learning_rate=0.0001),\n",
        "                  loss='binary_crossentropy',\n",
        "                  metrics=['accuracy'])\n",
        "\n",
        "    # Train the model with data augmentation\n",
        "    history = model.fit(datagen.flow(X_train, y_train, batch_size=32),\n",
        "                        epochs=30,\n",
        "                        validation_data=(X_test, y_test),\n",
        "                        callbacks=[EarlyStopping(patience=5)])\n",
        "\n",
        "    # Evaluate the model on the test set\n",
        "    loss, accuracy = model.evaluate(X_test, y_test)\n",
        "    print(\"Test Accuracy:\", accuracy)\n",
        "\n",
        "    cnn_predictions = (model.predict(X_test) > 0.5).astype(\"int32\")\n",
        "\n",
        "    # Print CNN metrics\n",
        "    print(\"\\nConvolutional Neural Network Metrics:\")\n",
        "    print(\"Accuracy:\", metrics.accuracy_score(y_test, cnn_predictions))\n",
        "    print(\"Precision:\", metrics.precision_score(y_test, cnn_predictions))\n",
        "    print(\"Recall:\", metrics.recall_score(y_test, cnn_predictions))\n",
        "    print(\"F1 Score:\", metrics.f1_score(y_test, cnn_predictions))"
      ],
      "metadata": {
        "colab": {
          "base_uri": "https://localhost:8080/",
          "height": 511
        },
        "id": "lx8ZX0OpE-9m",
        "outputId": "856e1e78-f2e4-4426-9bb8-e5c44835e633"
      },
      "execution_count": 67,
      "outputs": [
        {
          "output_type": "error",
          "ename": "ValueError",
          "evalue": "Inputs have incompatible shapes. Received shapes (32, 32, 64) and (64, 64, 64)",
          "traceback": [
            "\u001b[0;31m---------------------------------------------------------------------------\u001b[0m",
            "\u001b[0;31mValueError\u001b[0m                                Traceback (most recent call last)",
            "\u001b[0;32m<ipython-input-67-d145735fc37a>\u001b[0m in \u001b[0;36m<cell line: 2>\u001b[0;34m()\u001b[0m\n\u001b[1;32m     37\u001b[0m     \u001b[0mx\u001b[0m \u001b[0;34m=\u001b[0m \u001b[0mresidual_block\u001b[0m\u001b[0;34m(\u001b[0m\u001b[0mx\u001b[0m\u001b[0;34m,\u001b[0m \u001b[0;36m64\u001b[0m\u001b[0;34m)\u001b[0m\u001b[0;34m\u001b[0m\u001b[0;34m\u001b[0m\u001b[0m\n\u001b[1;32m     38\u001b[0m     \u001b[0mx\u001b[0m \u001b[0;34m=\u001b[0m \u001b[0mresidual_block\u001b[0m\u001b[0;34m(\u001b[0m\u001b[0mx\u001b[0m\u001b[0;34m,\u001b[0m \u001b[0;36m64\u001b[0m\u001b[0;34m)\u001b[0m\u001b[0;34m\u001b[0m\u001b[0;34m\u001b[0m\u001b[0m\n\u001b[0;32m---> 39\u001b[0;31m     \u001b[0mmodel\u001b[0m\u001b[0;34m.\u001b[0m\u001b[0madd\u001b[0m\u001b[0;34m(\u001b[0m\u001b[0mlayers\u001b[0m\u001b[0;34m.\u001b[0m\u001b[0mAdd\u001b[0m\u001b[0;34m(\u001b[0m\u001b[0;34m)\u001b[0m\u001b[0;34m(\u001b[0m\u001b[0;34m[\u001b[0m\u001b[0mx\u001b[0m\u001b[0;34m,\u001b[0m \u001b[0mmodel\u001b[0m\u001b[0;34m.\u001b[0m\u001b[0mlayers\u001b[0m\u001b[0;34m[\u001b[0m\u001b[0;34m-\u001b[0m\u001b[0;36m2\u001b[0m\u001b[0;34m]\u001b[0m\u001b[0;34m.\u001b[0m\u001b[0moutput\u001b[0m\u001b[0;34m]\u001b[0m\u001b[0;34m)\u001b[0m\u001b[0;34m)\u001b[0m  \u001b[0;31m# Skip connection\u001b[0m\u001b[0;34m\u001b[0m\u001b[0;34m\u001b[0m\u001b[0m\n\u001b[0m\u001b[1;32m     40\u001b[0m     \u001b[0mmodel\u001b[0m\u001b[0;34m.\u001b[0m\u001b[0madd\u001b[0m\u001b[0;34m(\u001b[0m\u001b[0mlayers\u001b[0m\u001b[0;34m.\u001b[0m\u001b[0mMaxPooling2D\u001b[0m\u001b[0;34m(\u001b[0m\u001b[0;34m(\u001b[0m\u001b[0;36m2\u001b[0m\u001b[0;34m,\u001b[0m \u001b[0;36m2\u001b[0m\u001b[0;34m)\u001b[0m\u001b[0;34m)\u001b[0m\u001b[0;34m)\u001b[0m\u001b[0;34m\u001b[0m\u001b[0;34m\u001b[0m\u001b[0m\n\u001b[1;32m     41\u001b[0m     \u001b[0mx\u001b[0m \u001b[0;34m=\u001b[0m \u001b[0mlayers\u001b[0m\u001b[0;34m.\u001b[0m\u001b[0mConv2D\u001b[0m\u001b[0;34m(\u001b[0m\u001b[0;36m128\u001b[0m\u001b[0;34m,\u001b[0m \u001b[0mkernel_size\u001b[0m\u001b[0;34m=\u001b[0m\u001b[0;36m3\u001b[0m\u001b[0;34m,\u001b[0m \u001b[0mpadding\u001b[0m\u001b[0;34m=\u001b[0m\u001b[0;34m'same'\u001b[0m\u001b[0;34m,\u001b[0m \u001b[0mactivation\u001b[0m\u001b[0;34m=\u001b[0m\u001b[0;34m'relu'\u001b[0m\u001b[0;34m)\u001b[0m\u001b[0;34m(\u001b[0m\u001b[0mx\u001b[0m\u001b[0;34m)\u001b[0m\u001b[0;34m\u001b[0m\u001b[0;34m\u001b[0m\u001b[0m\n",
            "\u001b[0;32m/usr/local/lib/python3.10/dist-packages/keras/src/utils/traceback_utils.py\u001b[0m in \u001b[0;36merror_handler\u001b[0;34m(*args, **kwargs)\u001b[0m\n\u001b[1;32m     68\u001b[0m             \u001b[0;31m# To get the full stack trace, call:\u001b[0m\u001b[0;34m\u001b[0m\u001b[0;34m\u001b[0m\u001b[0m\n\u001b[1;32m     69\u001b[0m             \u001b[0;31m# `tf.debugging.disable_traceback_filtering()`\u001b[0m\u001b[0;34m\u001b[0m\u001b[0;34m\u001b[0m\u001b[0m\n\u001b[0;32m---> 70\u001b[0;31m             \u001b[0;32mraise\u001b[0m \u001b[0me\u001b[0m\u001b[0;34m.\u001b[0m\u001b[0mwith_traceback\u001b[0m\u001b[0;34m(\u001b[0m\u001b[0mfiltered_tb\u001b[0m\u001b[0;34m)\u001b[0m \u001b[0;32mfrom\u001b[0m \u001b[0;32mNone\u001b[0m\u001b[0;34m\u001b[0m\u001b[0;34m\u001b[0m\u001b[0m\n\u001b[0m\u001b[1;32m     71\u001b[0m         \u001b[0;32mfinally\u001b[0m\u001b[0;34m:\u001b[0m\u001b[0;34m\u001b[0m\u001b[0;34m\u001b[0m\u001b[0m\n\u001b[1;32m     72\u001b[0m             \u001b[0;32mdel\u001b[0m \u001b[0mfiltered_tb\u001b[0m\u001b[0;34m\u001b[0m\u001b[0;34m\u001b[0m\u001b[0m\n",
            "\u001b[0;32m/usr/local/lib/python3.10/dist-packages/keras/src/layers/merging/base_merge.py\u001b[0m in \u001b[0;36m_compute_elemwise_op_output_shape\u001b[0;34m(self, shape1, shape2)\u001b[0m\n\u001b[1;32m     72\u001b[0m             \u001b[0;32melse\u001b[0m\u001b[0;34m:\u001b[0m\u001b[0;34m\u001b[0m\u001b[0;34m\u001b[0m\u001b[0m\n\u001b[1;32m     73\u001b[0m                 \u001b[0;32mif\u001b[0m \u001b[0mi\u001b[0m \u001b[0;34m!=\u001b[0m \u001b[0mj\u001b[0m\u001b[0;34m:\u001b[0m\u001b[0;34m\u001b[0m\u001b[0;34m\u001b[0m\u001b[0m\n\u001b[0;32m---> 74\u001b[0;31m                     raise ValueError(\n\u001b[0m\u001b[1;32m     75\u001b[0m                         \u001b[0;34m\"Inputs have incompatible shapes. \"\u001b[0m\u001b[0;34m\u001b[0m\u001b[0;34m\u001b[0m\u001b[0m\n\u001b[1;32m     76\u001b[0m                         \u001b[0;34mf\"Received shapes {shape1} and {shape2}\"\u001b[0m\u001b[0;34m\u001b[0m\u001b[0;34m\u001b[0m\u001b[0m\n",
            "\u001b[0;31mValueError\u001b[0m: Inputs have incompatible shapes. Received shapes (32, 32, 64) and (64, 64, 64)"
          ]
        }
      ]
    },
    {
      "cell_type": "code",
      "source": [
        "import os\n",
        "import numpy as np\n",
        "import cv2\n",
        "from skimage.feature import local_binary_pattern\n",
        "from sklearn.model_selection import train_test_split\n",
        "from sklearn import metrics\n",
        "from tensorflow.keras import layers, models, optimizers\n",
        "from tensorflow.keras.preprocessing.image import ImageDataGenerator\n",
        "from tensorflow.keras.callbacks import EarlyStopping"
      ],
      "metadata": {
        "id": "rcHq4WmbFNaW"
      },
      "execution_count": 68,
      "outputs": []
    },
    {
      "cell_type": "code",
      "source": [
        "# Function to read and preprocess images\n",
        "def read_and_preprocess_images(dataset_path):\n",
        "    images = []\n",
        "    labels = []\n",
        "    for category in [\"cover\", \"stego\"]:\n",
        "        category_path = os.path.join(dataset_path, category)\n",
        "        for filename in os.listdir(category_path):\n",
        "            if filename.endswith(\".pgm\"):\n",
        "                img = cv2.imread(os.path.join(category_path, filename), cv2.IMREAD_GRAYSCALE)\n",
        "                img = cv2.resize(img, (128, 128))  # Resize image if needed\n",
        "\n",
        "                # Apply histogram equalization\n",
        "                img = cv2.equalizeHist(img)\n",
        "\n",
        "                # Apply Local Binary Pattern\n",
        "                lbp = local_binary_pattern(img, P=8, R=1, method='uniform')\n",
        "                img = np.array(lbp, dtype=np.uint8)\n",
        "\n",
        "                images.append(img)\n",
        "                labels.append(1 if category == \"stego\" else 0)\n",
        "\n",
        "    return np.array(images), np.array(labels)"
      ],
      "metadata": {
        "id": "7tZ4_TMGFOUO"
      },
      "execution_count": 69,
      "outputs": []
    },
    {
      "cell_type": "code",
      "source": [
        "# Load and preprocess dataset\n",
        "dataset_path = \"/content/drive/MyDrive/S uniward 0.4bpp\"\n",
        "X, y = read_and_preprocess_images(dataset_path)"
      ],
      "metadata": {
        "id": "_UGWxccDFSw_"
      },
      "execution_count": 70,
      "outputs": []
    },
    {
      "cell_type": "code",
      "source": [
        "# Check if the dataset is not empty\n",
        "if len(X) == 0:\n",
        "    print(\"Error: No images found in the specified folders.\")\n",
        "else:\n",
        "    # Split the dataset into training and testing sets\n",
        "    X_train, X_test, y_train, y_test = train_test_split(X, y, test_size=0.2, random_state=42)\n",
        "\n",
        "    # Reshape for CNN\n",
        "    X_train = X_train.reshape(-1, 128, 128, 1)\n",
        "    X_test = X_test.reshape(-1, 128, 128, 1)\n",
        "\n",
        "    # Normalize pixel values\n",
        "    X_train = X_train / 255.0\n",
        "    X_test = X_test / 255.0\n",
        "\n",
        "    # Use binary crossentropy as the loss function for binary classification\n",
        "    y_train = np.array(y_train)\n",
        "    y_test = np.array(y_test)\n",
        "\n",
        "    # Data Augmentation\n",
        "    datagen = ImageDataGenerator(rotation_range=20, width_shift_range=0.2, height_shift_range=0.2, horizontal_flip=True)\n",
        "\n",
        "    # Define a simple residual block\n",
        "    def residual_block(x, filters, kernel_size=3, stride=1):\n",
        "        res = x\n",
        "        x = layers.Conv2D(filters, kernel_size=kernel_size, strides=stride, padding='same', activation='relu')(x)\n",
        "        x = layers.Conv2D(filters, kernel_size=kernel_size, strides=stride, padding='same')(x)\n",
        "        x = layers.Add()([x, res])  # Add the input to the output (residual connection)\n",
        "        x = layers.Activation('relu')(x)\n",
        "        return x\n",
        "\n",
        "    # Define the model using residual blocks\n",
        "    model = models.Sequential()\n",
        "    model.add(layers.Conv2D(64, kernel_size=7, strides=2, input_shape=(128, 128, 1), padding='same', activation='relu'))\n",
        "    model.add(layers.MaxPooling2D((2, 2)))\n",
        "    x = layers.Conv2D(64, kernel_size=3, padding='same', activation='relu')(model.output)\n",
        "    x = residual_block(x, 64)\n",
        "    x = residual_block(x, 64)\n",
        "    model.add(layers.Add()([x, layers.Conv2D(64, kernel_size=1, strides=2, padding='valid')(model.layers[-2].output)]))  # Skip connection\n",
        "    model.add(layers.MaxPooling2D((2, 2)))\n",
        "    x = layers.Conv2D(128, kernel_size=3, padding='same', activation='relu')(model.output)\n",
        "    x = residual_block(x, 128, stride=2)\n",
        "    x = residual_block(x, 128)\n",
        "    model.add(layers.Add()([x, layers.Conv2D(128, kernel_size=1, strides=2, padding='valid')(model.layers[-2].output)]))  # Skip connection\n",
        "    model.add(layers.MaxPooling2D((2, 2)))\n",
        "    x = layers.Conv2D(256, kernel_size=3, padding='same', activation='relu')(model.output)\n",
        "    x = residual_block(x, 256, stride=2)\n",
        "    x = residual_block(x, 256)\n",
        "    model.add(layers.Add()([x, layers.Conv2D(256, kernel_size=1, strides=2, padding='valid')(model.layers[-2].output)]))  # Skip connection\n",
        "    model.add(layers.GlobalAveragePooling2D())\n",
        "    model.add(layers.Dense(1, activation='sigmoid'))\n",
        "\n",
        "    model.compile(optimizer=optimizers.Adam(learning_rate=0.0001),\n",
        "                  loss='binary_crossentropy',\n",
        "                  metrics=['accuracy'])\n",
        "\n",
        "    # Train the model with data augmentation\n",
        "    history = model.fit(datagen.flow(X_train, y_train, batch_size=32),\n",
        "                        epochs=30,\n",
        "                        validation_data=(X_test, y_test),\n",
        "                        callbacks=[EarlyStopping(patience=5)])\n",
        "\n",
        "    # Evaluate the model on the test set\n",
        "    loss, accuracy = model.evaluate(X_test, y_test)\n",
        "    print(\"Test Accuracy:\", accuracy)\n",
        "\n",
        "    cnn_predictions = (model.predict(X_test) > 0.5).astype(\"int32\")\n",
        "\n",
        "    # Print CNN metrics\n",
        "    print(\"\\nConvolutional Neural Network Metrics:\")\n",
        "    print(\"Accuracy:\", metrics.accuracy_score(y_test, cnn_predictions))\n",
        "    print(\"Precision:\", metrics.precision_score(y_test, cnn_predictions))\n",
        "    print(\"Recall:\", metrics.recall_score(y_test, cnn_predictions))\n",
        "    print(\"F1 Score:\", metrics.f1_score(y_test, cnn_predictions))"
      ],
      "metadata": {
        "colab": {
          "base_uri": "https://localhost:8080/",
          "height": 685
        },
        "id": "UOP9gd5BFTiE",
        "outputId": "a3579a75-4043-4383-c462-fda0c0720bb0"
      },
      "execution_count": 71,
      "outputs": [
        {
          "output_type": "error",
          "ename": "TypeError",
          "evalue": "The added layer must be an instance of class Layer. Received: layer=KerasTensor(type_spec=TensorSpec(shape=(None, 32, 32, 64), dtype=tf.float32, name=None), name='add_11/add:0', description=\"created by layer 'add_11'\") of type <class 'keras.src.engine.keras_tensor.KerasTensor'>.",
          "traceback": [
            "\u001b[0;31m---------------------------------------------------------------------------\u001b[0m",
            "\u001b[0;31mTypeError\u001b[0m                                 Traceback (most recent call last)",
            "\u001b[0;32m<ipython-input-71-9423625de14d>\u001b[0m in \u001b[0;36m<cell line: 2>\u001b[0;34m()\u001b[0m\n\u001b[1;32m     37\u001b[0m     \u001b[0mx\u001b[0m \u001b[0;34m=\u001b[0m \u001b[0mresidual_block\u001b[0m\u001b[0;34m(\u001b[0m\u001b[0mx\u001b[0m\u001b[0;34m,\u001b[0m \u001b[0;36m64\u001b[0m\u001b[0;34m)\u001b[0m\u001b[0;34m\u001b[0m\u001b[0;34m\u001b[0m\u001b[0m\n\u001b[1;32m     38\u001b[0m     \u001b[0mx\u001b[0m \u001b[0;34m=\u001b[0m \u001b[0mresidual_block\u001b[0m\u001b[0;34m(\u001b[0m\u001b[0mx\u001b[0m\u001b[0;34m,\u001b[0m \u001b[0;36m64\u001b[0m\u001b[0;34m)\u001b[0m\u001b[0;34m\u001b[0m\u001b[0;34m\u001b[0m\u001b[0m\n\u001b[0;32m---> 39\u001b[0;31m     \u001b[0mmodel\u001b[0m\u001b[0;34m.\u001b[0m\u001b[0madd\u001b[0m\u001b[0;34m(\u001b[0m\u001b[0mlayers\u001b[0m\u001b[0;34m.\u001b[0m\u001b[0mAdd\u001b[0m\u001b[0;34m(\u001b[0m\u001b[0;34m)\u001b[0m\u001b[0;34m(\u001b[0m\u001b[0;34m[\u001b[0m\u001b[0mx\u001b[0m\u001b[0;34m,\u001b[0m \u001b[0mlayers\u001b[0m\u001b[0;34m.\u001b[0m\u001b[0mConv2D\u001b[0m\u001b[0;34m(\u001b[0m\u001b[0;36m64\u001b[0m\u001b[0;34m,\u001b[0m \u001b[0mkernel_size\u001b[0m\u001b[0;34m=\u001b[0m\u001b[0;36m1\u001b[0m\u001b[0;34m,\u001b[0m \u001b[0mstrides\u001b[0m\u001b[0;34m=\u001b[0m\u001b[0;36m2\u001b[0m\u001b[0;34m,\u001b[0m \u001b[0mpadding\u001b[0m\u001b[0;34m=\u001b[0m\u001b[0;34m'valid'\u001b[0m\u001b[0;34m)\u001b[0m\u001b[0;34m(\u001b[0m\u001b[0mmodel\u001b[0m\u001b[0;34m.\u001b[0m\u001b[0mlayers\u001b[0m\u001b[0;34m[\u001b[0m\u001b[0;34m-\u001b[0m\u001b[0;36m2\u001b[0m\u001b[0;34m]\u001b[0m\u001b[0;34m.\u001b[0m\u001b[0moutput\u001b[0m\u001b[0;34m)\u001b[0m\u001b[0;34m]\u001b[0m\u001b[0;34m)\u001b[0m\u001b[0;34m)\u001b[0m  \u001b[0;31m# Skip connection\u001b[0m\u001b[0;34m\u001b[0m\u001b[0;34m\u001b[0m\u001b[0m\n\u001b[0m\u001b[1;32m     40\u001b[0m     \u001b[0mmodel\u001b[0m\u001b[0;34m.\u001b[0m\u001b[0madd\u001b[0m\u001b[0;34m(\u001b[0m\u001b[0mlayers\u001b[0m\u001b[0;34m.\u001b[0m\u001b[0mMaxPooling2D\u001b[0m\u001b[0;34m(\u001b[0m\u001b[0;34m(\u001b[0m\u001b[0;36m2\u001b[0m\u001b[0;34m,\u001b[0m \u001b[0;36m2\u001b[0m\u001b[0;34m)\u001b[0m\u001b[0;34m)\u001b[0m\u001b[0;34m)\u001b[0m\u001b[0;34m\u001b[0m\u001b[0;34m\u001b[0m\u001b[0m\n\u001b[1;32m     41\u001b[0m     \u001b[0mx\u001b[0m \u001b[0;34m=\u001b[0m \u001b[0mlayers\u001b[0m\u001b[0;34m.\u001b[0m\u001b[0mConv2D\u001b[0m\u001b[0;34m(\u001b[0m\u001b[0;36m128\u001b[0m\u001b[0;34m,\u001b[0m \u001b[0mkernel_size\u001b[0m\u001b[0;34m=\u001b[0m\u001b[0;36m3\u001b[0m\u001b[0;34m,\u001b[0m \u001b[0mpadding\u001b[0m\u001b[0;34m=\u001b[0m\u001b[0;34m'same'\u001b[0m\u001b[0;34m,\u001b[0m \u001b[0mactivation\u001b[0m\u001b[0;34m=\u001b[0m\u001b[0;34m'relu'\u001b[0m\u001b[0;34m)\u001b[0m\u001b[0;34m(\u001b[0m\u001b[0mmodel\u001b[0m\u001b[0;34m.\u001b[0m\u001b[0moutput\u001b[0m\u001b[0;34m)\u001b[0m\u001b[0;34m\u001b[0m\u001b[0;34m\u001b[0m\u001b[0m\n",
            "\u001b[0;32m/usr/local/lib/python3.10/dist-packages/tensorflow/python/trackable/base.py\u001b[0m in \u001b[0;36m_method_wrapper\u001b[0;34m(self, *args, **kwargs)\u001b[0m\n\u001b[1;32m    202\u001b[0m     \u001b[0mself\u001b[0m\u001b[0;34m.\u001b[0m\u001b[0m_self_setattr_tracking\u001b[0m \u001b[0;34m=\u001b[0m \u001b[0;32mFalse\u001b[0m  \u001b[0;31m# pylint: disable=protected-access\u001b[0m\u001b[0;34m\u001b[0m\u001b[0;34m\u001b[0m\u001b[0m\n\u001b[1;32m    203\u001b[0m     \u001b[0;32mtry\u001b[0m\u001b[0;34m:\u001b[0m\u001b[0;34m\u001b[0m\u001b[0;34m\u001b[0m\u001b[0m\n\u001b[0;32m--> 204\u001b[0;31m       \u001b[0mresult\u001b[0m \u001b[0;34m=\u001b[0m \u001b[0mmethod\u001b[0m\u001b[0;34m(\u001b[0m\u001b[0mself\u001b[0m\u001b[0;34m,\u001b[0m \u001b[0;34m*\u001b[0m\u001b[0margs\u001b[0m\u001b[0;34m,\u001b[0m \u001b[0;34m**\u001b[0m\u001b[0mkwargs\u001b[0m\u001b[0;34m)\u001b[0m\u001b[0;34m\u001b[0m\u001b[0;34m\u001b[0m\u001b[0m\n\u001b[0m\u001b[1;32m    205\u001b[0m     \u001b[0;32mfinally\u001b[0m\u001b[0;34m:\u001b[0m\u001b[0;34m\u001b[0m\u001b[0;34m\u001b[0m\u001b[0m\n\u001b[1;32m    206\u001b[0m       \u001b[0mself\u001b[0m\u001b[0;34m.\u001b[0m\u001b[0m_self_setattr_tracking\u001b[0m \u001b[0;34m=\u001b[0m \u001b[0mprevious_value\u001b[0m  \u001b[0;31m# pylint: disable=protected-access\u001b[0m\u001b[0;34m\u001b[0m\u001b[0;34m\u001b[0m\u001b[0m\n",
            "\u001b[0;32m/usr/local/lib/python3.10/dist-packages/keras/src/utils/traceback_utils.py\u001b[0m in \u001b[0;36merror_handler\u001b[0;34m(*args, **kwargs)\u001b[0m\n\u001b[1;32m     68\u001b[0m             \u001b[0;31m# To get the full stack trace, call:\u001b[0m\u001b[0;34m\u001b[0m\u001b[0;34m\u001b[0m\u001b[0m\n\u001b[1;32m     69\u001b[0m             \u001b[0;31m# `tf.debugging.disable_traceback_filtering()`\u001b[0m\u001b[0;34m\u001b[0m\u001b[0;34m\u001b[0m\u001b[0m\n\u001b[0;32m---> 70\u001b[0;31m             \u001b[0;32mraise\u001b[0m \u001b[0me\u001b[0m\u001b[0;34m.\u001b[0m\u001b[0mwith_traceback\u001b[0m\u001b[0;34m(\u001b[0m\u001b[0mfiltered_tb\u001b[0m\u001b[0;34m)\u001b[0m \u001b[0;32mfrom\u001b[0m \u001b[0;32mNone\u001b[0m\u001b[0;34m\u001b[0m\u001b[0;34m\u001b[0m\u001b[0m\n\u001b[0m\u001b[1;32m     71\u001b[0m         \u001b[0;32mfinally\u001b[0m\u001b[0;34m:\u001b[0m\u001b[0;34m\u001b[0m\u001b[0;34m\u001b[0m\u001b[0m\n\u001b[1;32m     72\u001b[0m             \u001b[0;32mdel\u001b[0m \u001b[0mfiltered_tb\u001b[0m\u001b[0;34m\u001b[0m\u001b[0;34m\u001b[0m\u001b[0m\n",
            "\u001b[0;32m/usr/local/lib/python3.10/dist-packages/keras/src/engine/sequential.py\u001b[0m in \u001b[0;36madd\u001b[0;34m(self, layer)\u001b[0m\n\u001b[1;32m    176\u001b[0m                 \u001b[0mlayer\u001b[0m \u001b[0;34m=\u001b[0m \u001b[0mfunctional\u001b[0m\u001b[0;34m.\u001b[0m\u001b[0mModuleWrapper\u001b[0m\u001b[0;34m(\u001b[0m\u001b[0mlayer\u001b[0m\u001b[0;34m)\u001b[0m\u001b[0;34m\u001b[0m\u001b[0;34m\u001b[0m\u001b[0m\n\u001b[1;32m    177\u001b[0m         \u001b[0;32melse\u001b[0m\u001b[0;34m:\u001b[0m\u001b[0;34m\u001b[0m\u001b[0;34m\u001b[0m\u001b[0m\n\u001b[0;32m--> 178\u001b[0;31m             raise TypeError(\n\u001b[0m\u001b[1;32m    179\u001b[0m                 \u001b[0;34m\"The added layer must be an instance of class Layer. \"\u001b[0m\u001b[0;34m\u001b[0m\u001b[0;34m\u001b[0m\u001b[0m\n\u001b[1;32m    180\u001b[0m                 \u001b[0;34mf\"Received: layer={layer} of type {type(layer)}.\"\u001b[0m\u001b[0;34m\u001b[0m\u001b[0;34m\u001b[0m\u001b[0m\n",
            "\u001b[0;31mTypeError\u001b[0m: The added layer must be an instance of class Layer. Received: layer=KerasTensor(type_spec=TensorSpec(shape=(None, 32, 32, 64), dtype=tf.float32, name=None), name='add_11/add:0', description=\"created by layer 'add_11'\") of type <class 'keras.src.engine.keras_tensor.KerasTensor'>."
          ]
        }
      ]
    },
    {
      "cell_type": "code",
      "source": [],
      "metadata": {
        "id": "D41Nf0PTGq_M"
      },
      "execution_count": null,
      "outputs": []
    }
  ]
}